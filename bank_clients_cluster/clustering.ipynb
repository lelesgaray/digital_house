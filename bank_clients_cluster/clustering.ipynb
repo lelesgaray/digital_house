{
 "cells": [
  {
   "cell_type": "markdown",
   "metadata": {
    "colab_type": "text",
    "id": "wvCDk6AKXr0s"
   },
   "source": [
    "### TRABAJO FINAL"
   ]
  },
  {
   "cell_type": "code",
   "execution_count": 45,
   "metadata": {
    "colab": {},
    "colab_type": "code",
    "id": "HXoaWbCwXr0z"
   },
   "outputs": [],
   "source": [
    "# libraries import\n",
    "import pandas as pd\n",
    "import numpy as np\n",
    "import matplotlib.pyplot as plt\n",
    "import seaborn as sns\n",
    "%matplotlib inline\n",
    "from sklearn.preprocessing import StandardScaler\n",
    "from sklearn.model_selection import train_test_split\n",
    "from sklearn.model_selection import cross_val_score, KFold\n",
    "from sklearn.metrics import confusion_matrix, accuracy_score, classification_report\n",
    "from sklearn.neighbors import KNeighborsClassifier\n",
    "from sklearn.model_selection import RandomizedSearchCV, GridSearchCV\n",
    "from sklearn.metrics import roc_auc_score, roc_curve\n",
    "from catboost import CatBoostClassifier\n",
    "from sklearn.preprocessing import LabelBinarizer\n",
    "from sklearn.preprocessing import LabelEncoder"
   ]
  },
  {
   "cell_type": "code",
   "execution_count": 46,
   "metadata": {
    "colab": {
     "base_uri": "https://localhost:8080/",
     "height": 391
    },
    "colab_type": "code",
    "executionInfo": {
     "elapsed": 50311,
     "status": "error",
     "timestamp": 1574804015589,
     "user": {
      "displayName": "Leandro Elesgaray",
      "photoUrl": "https://lh3.googleusercontent.com/a-/AAuE7mBw7QwET17-fxIeJ8IqLSdC_4yWtHSwU6zFKzr_RQ=s64",
      "userId": "11289310588674927388"
     },
     "user_tz": 180
    },
    "id": "iCicMhPvXr08",
    "outputId": "7264c690-ca61-466e-d1b1-fdfe90586d56"
   },
   "outputs": [
    {
     "name": "stderr",
     "output_type": "stream",
     "text": [
      "C:\\Users\\Leo\\Anaconda3\\lib\\site-packages\\IPython\\core\\interactiveshell.py:3049: DtypeWarning: Columns (34) have mixed types. Specify dtype option on import or set low_memory=False.\n",
      "  interactivity=interactivity, compiler=compiler, result=result)\n"
     ]
    },
    {
     "data": {
      "text/html": [
       "<div>\n",
       "<style scoped>\n",
       "    .dataframe tbody tr th:only-of-type {\n",
       "        vertical-align: middle;\n",
       "    }\n",
       "\n",
       "    .dataframe tbody tr th {\n",
       "        vertical-align: top;\n",
       "    }\n",
       "\n",
       "    .dataframe thead th {\n",
       "        text-align: right;\n",
       "    }\n",
       "</style>\n",
       "<table border=\"1\" class=\"dataframe\">\n",
       "  <thead>\n",
       "    <tr style=\"text-align: right;\">\n",
       "      <th></th>\n",
       "      <th>IDSexo</th>\n",
       "      <th>ActividadAFIP</th>\n",
       "      <th>FechaNacimiento</th>\n",
       "      <th>IDEstadoCivil</th>\n",
       "      <th>pais_nacimiento</th>\n",
       "      <th>nacionidad</th>\n",
       "      <th>situacion_laboral</th>\n",
       "      <th>Situacion_Vivienda</th>\n",
       "      <th>pais_domicilio</th>\n",
       "      <th>ciudad_domicilio</th>\n",
       "      <th>...</th>\n",
       "      <th>Pf Bonos</th>\n",
       "      <th>CANTIDAD_CUOTAPARTISTA</th>\n",
       "      <th>CANTIDAD_COMITENTES</th>\n",
       "      <th>Segmento_renta</th>\n",
       "      <th>TC_Perf_cargo_anual</th>\n",
       "      <th>TC_Perf_Comisiones</th>\n",
       "      <th>gasto_anual_tc</th>\n",
       "      <th>ingreso_anual</th>\n",
       "      <th>TC_Perf_int_saldofinan</th>\n",
       "      <th>TC_Perf_Saldo_No_Financ</th>\n",
       "    </tr>\n",
       "  </thead>\n",
       "  <tbody>\n",
       "    <tr>\n",
       "      <th>0</th>\n",
       "      <td>F</td>\n",
       "      <td>0.0</td>\n",
       "      <td>1932-02-03 02:00:00.000</td>\n",
       "      <td>S</td>\n",
       "      <td>ARGENTINA</td>\n",
       "      <td>ARGENTINO</td>\n",
       "      <td>Relacion de dependencia contratado</td>\n",
       "      <td>PROPIA</td>\n",
       "      <td>ARGENTINA</td>\n",
       "      <td>CORDOBA</td>\n",
       "      <td>...</td>\n",
       "      <td>NaN</td>\n",
       "      <td>NaN</td>\n",
       "      <td>NaN</td>\n",
       "      <td>MEDIA</td>\n",
       "      <td>659.0</td>\n",
       "      <td>47007.96</td>\n",
       "      <td>3627475.80</td>\n",
       "      <td>362880.0</td>\n",
       "      <td>226.56</td>\n",
       "      <td>52275.00</td>\n",
       "    </tr>\n",
       "    <tr>\n",
       "      <th>1</th>\n",
       "      <td>F</td>\n",
       "      <td>0.0</td>\n",
       "      <td>1934-09-21 02:00:00.000</td>\n",
       "      <td>S</td>\n",
       "      <td>ARGENTINA</td>\n",
       "      <td>ARGENTINO</td>\n",
       "      <td>Relacion de dependencia contratado</td>\n",
       "      <td>PROPIA</td>\n",
       "      <td>ARGENTINA</td>\n",
       "      <td>SANTIAGO DEL ESTERO</td>\n",
       "      <td>...</td>\n",
       "      <td>NaN</td>\n",
       "      <td>NaN</td>\n",
       "      <td>NaN</td>\n",
       "      <td>BAJA</td>\n",
       "      <td>1664.5</td>\n",
       "      <td>32408.76</td>\n",
       "      <td>400733.28</td>\n",
       "      <td>49524.0</td>\n",
       "      <td>10.26</td>\n",
       "      <td>20124.00</td>\n",
       "    </tr>\n",
       "    <tr>\n",
       "      <th>2</th>\n",
       "      <td>F</td>\n",
       "      <td>0.0</td>\n",
       "      <td>1934-09-29 02:00:00.000</td>\n",
       "      <td>V</td>\n",
       "      <td>ARGENTINA</td>\n",
       "      <td>ARGENTINO</td>\n",
       "      <td>Relacion de dependencia contratado</td>\n",
       "      <td>PROPIA</td>\n",
       "      <td>ARGENTINA</td>\n",
       "      <td>GODOY CRUZ</td>\n",
       "      <td>...</td>\n",
       "      <td>NaN</td>\n",
       "      <td>NaN</td>\n",
       "      <td>NaN</td>\n",
       "      <td>BAJA</td>\n",
       "      <td>659.0</td>\n",
       "      <td>27601.44</td>\n",
       "      <td>2631941.16</td>\n",
       "      <td>362880.0</td>\n",
       "      <td>680.66</td>\n",
       "      <td>124800.00</td>\n",
       "    </tr>\n",
       "    <tr>\n",
       "      <th>3</th>\n",
       "      <td>F</td>\n",
       "      <td>0.0</td>\n",
       "      <td>1935-02-24 02:00:00.000</td>\n",
       "      <td>V</td>\n",
       "      <td>ARGENTINA</td>\n",
       "      <td>ARGENTINO</td>\n",
       "      <td>Relacion de dependencia contratado</td>\n",
       "      <td>PROPIA</td>\n",
       "      <td>ARGENTINA</td>\n",
       "      <td>SAN MIGUEL DE TUCUMAN</td>\n",
       "      <td>...</td>\n",
       "      <td>NaN</td>\n",
       "      <td>NaN</td>\n",
       "      <td>NaN</td>\n",
       "      <td>BAJA</td>\n",
       "      <td>659.0</td>\n",
       "      <td>30196.08</td>\n",
       "      <td>1794501.72</td>\n",
       "      <td>362880.0</td>\n",
       "      <td>0.00</td>\n",
       "      <td>180507.60</td>\n",
       "    </tr>\n",
       "    <tr>\n",
       "      <th>4</th>\n",
       "      <td>F</td>\n",
       "      <td>0.0</td>\n",
       "      <td>1935-07-17 02:00:00.000</td>\n",
       "      <td>V</td>\n",
       "      <td>ARGENTINA</td>\n",
       "      <td>ARGENTINO</td>\n",
       "      <td>Relacion de dependencia fijo</td>\n",
       "      <td>PROPIA</td>\n",
       "      <td>ARGENTINA</td>\n",
       "      <td>CORRIENTES</td>\n",
       "      <td>...</td>\n",
       "      <td>NaN</td>\n",
       "      <td>NaN</td>\n",
       "      <td>NaN</td>\n",
       "      <td>BAJA</td>\n",
       "      <td>1607.0</td>\n",
       "      <td>43225.08</td>\n",
       "      <td>2782645.80</td>\n",
       "      <td>21600.0</td>\n",
       "      <td>7703.76</td>\n",
       "      <td>20797.44</td>\n",
       "    </tr>\n",
       "  </tbody>\n",
       "</table>\n",
       "<p>5 rows × 47 columns</p>\n",
       "</div>"
      ],
      "text/plain": [
       "  IDSexo  ActividadAFIP          FechaNacimiento IDEstadoCivil  \\\n",
       "0      F            0.0  1932-02-03 02:00:00.000             S   \n",
       "1      F            0.0  1934-09-21 02:00:00.000             S   \n",
       "2      F            0.0  1934-09-29 02:00:00.000             V   \n",
       "3      F            0.0  1935-02-24 02:00:00.000             V   \n",
       "4      F            0.0  1935-07-17 02:00:00.000             V   \n",
       "\n",
       "  pais_nacimiento nacionidad                   situacion_laboral  \\\n",
       "0       ARGENTINA  ARGENTINO  Relacion de dependencia contratado   \n",
       "1       ARGENTINA  ARGENTINO  Relacion de dependencia contratado   \n",
       "2       ARGENTINA  ARGENTINO  Relacion de dependencia contratado   \n",
       "3       ARGENTINA  ARGENTINO  Relacion de dependencia contratado   \n",
       "4       ARGENTINA  ARGENTINO        Relacion de dependencia fijo   \n",
       "\n",
       "  Situacion_Vivienda pais_domicilio       ciudad_domicilio  ... Pf Bonos  \\\n",
       "0             PROPIA      ARGENTINA                CORDOBA  ...      NaN   \n",
       "1             PROPIA      ARGENTINA    SANTIAGO DEL ESTERO  ...      NaN   \n",
       "2             PROPIA      ARGENTINA             GODOY CRUZ  ...      NaN   \n",
       "3             PROPIA      ARGENTINA  SAN MIGUEL DE TUCUMAN  ...      NaN   \n",
       "4             PROPIA      ARGENTINA             CORRIENTES  ...      NaN   \n",
       "\n",
       "   CANTIDAD_CUOTAPARTISTA  CANTIDAD_COMITENTES  Segmento_renta  \\\n",
       "0                     NaN                  NaN           MEDIA   \n",
       "1                     NaN                  NaN            BAJA   \n",
       "2                     NaN                  NaN            BAJA   \n",
       "3                     NaN                  NaN            BAJA   \n",
       "4                     NaN                  NaN            BAJA   \n",
       "\n",
       "   TC_Perf_cargo_anual  TC_Perf_Comisiones  gasto_anual_tc  ingreso_anual  \\\n",
       "0                659.0            47007.96      3627475.80       362880.0   \n",
       "1               1664.5            32408.76       400733.28        49524.0   \n",
       "2                659.0            27601.44      2631941.16       362880.0   \n",
       "3                659.0            30196.08      1794501.72       362880.0   \n",
       "4               1607.0            43225.08      2782645.80        21600.0   \n",
       "\n",
       "   TC_Perf_int_saldofinan  TC_Perf_Saldo_No_Financ  \n",
       "0                  226.56                 52275.00  \n",
       "1                   10.26                 20124.00  \n",
       "2                  680.66                124800.00  \n",
       "3                    0.00                180507.60  \n",
       "4                 7703.76                 20797.44  \n",
       "\n",
       "[5 rows x 47 columns]"
      ]
     },
     "execution_count": 46,
     "metadata": {},
     "output_type": "execute_result"
    }
   ],
   "source": [
    "# load data\n",
    "df = pd.read_csv('clientes_final_8.csv', sep = ';')\n",
    "df.head()"
   ]
  },
  {
   "cell_type": "code",
   "execution_count": 47,
   "metadata": {
    "colab": {},
    "colab_type": "code",
    "id": "6RW3VvilXr1L"
   },
   "outputs": [
    {
     "data": {
      "text/plain": [
       "(332218, 47)"
      ]
     },
     "execution_count": 47,
     "metadata": {},
     "output_type": "execute_result"
    }
   ],
   "source": [
    "df.shape"
   ]
  },
  {
   "cell_type": "code",
   "execution_count": 48,
   "metadata": {
    "colab": {},
    "colab_type": "code",
    "id": "oeFJMIzqXr1p"
   },
   "outputs": [
    {
     "data": {
      "text/plain": [
       "BAJA         0.448384\n",
       "MEDIA        0.431929\n",
       "ALTA         0.103614\n",
       "SIN RENTA    0.016074\n",
       "Name: Segmento_renta, dtype: float64"
      ]
     },
     "execution_count": 48,
     "metadata": {},
     "output_type": "execute_result"
    }
   ],
   "source": [
    "df['Segmento_renta'].value_counts(normalize = True)"
   ]
  },
  {
   "cell_type": "code",
   "execution_count": 49,
   "metadata": {
    "colab": {},
    "colab_type": "code",
    "id": "Kz2032JIXr1y"
   },
   "outputs": [
    {
     "data": {
      "text/plain": [
       "1     0.847606\n",
       "2     0.051517\n",
       "4     0.034447\n",
       "5     0.034387\n",
       "3     0.031768\n",
       "11    0.000274\n",
       "Name: sit_bcra, dtype: float64"
      ]
     },
     "execution_count": 49,
     "metadata": {},
     "output_type": "execute_result"
    }
   ],
   "source": [
    "df['sit_bcra'].value_counts(normalize = True)"
   ]
  },
  {
   "cell_type": "code",
   "execution_count": 50,
   "metadata": {
    "colab": {},
    "colab_type": "code",
    "id": "Wbv42yFgXr1-",
    "scrolled": true
   },
   "outputs": [
    {
     "name": "stdout",
     "output_type": "stream",
     "text": [
      "<class 'pandas.core.frame.DataFrame'>\n",
      "RangeIndex: 332218 entries, 0 to 332217\n",
      "Data columns (total 47 columns):\n",
      "IDSexo                              332218 non-null object\n",
      "ActividadAFIP                       332202 non-null float64\n",
      "FechaNacimiento                     332218 non-null object\n",
      "IDEstadoCivil                       332216 non-null object\n",
      "pais_nacimiento                     332218 non-null object\n",
      "nacionidad                          332218 non-null object\n",
      "situacion_laboral                   332218 non-null object\n",
      "Situacion_Vivienda                  332218 non-null object\n",
      "pais_domicilio                      332218 non-null object\n",
      "ciudad_domicilio                    332218 non-null object\n",
      "provincia_domicilio                 332218 non-null object\n",
      "sit_bcra                            332218 non-null int64\n",
      "vb_antiguedad_tc                    332218 non-null int64\n",
      "vb_actividad_tc                     332218 non-null int64\n",
      "vb_uso_tc_prom_3                    332218 non-null int64\n",
      "uso_canales_digitales               332218 non-null int64\n",
      "id_Cobis                            332218 non-null int64\n",
      "SUM_CA_Pesos_SD_Primer_Dia_Mes      332218 non-null float64\n",
      "SUM_CA_Pesos_SD_Promedio_Mensual    332218 non-null float64\n",
      "SUM_CA_Pesos_SD_Ultimo_Dia_Mes      332218 non-null float64\n",
      "SUM_CA_Promo_Consumo                332218 non-null object\n",
      "SUM_TC_Promo_Consumo                332218 non-null float64\n",
      "Tiene_Celular                       332218 non-null int64\n",
      "Tiene_Email                         332218 non-null int64\n",
      "vb_riesgo_score                     320498 non-null float64\n",
      "tiene_PP                            332218 non-null int64\n",
      "tiene_PH                            332218 non-null int64\n",
      "tiene_ca_pesos                      332218 non-null int64\n",
      "tiene_ca_dolar                      332218 non-null int64\n",
      "tiene_plazo_fijo                    332218 non-null int64\n",
      "monto_pf_pesos                      332218 non-null object\n",
      "monto_pf_dolar                      332218 non-null object\n",
      "ea_perfil_patrimonial               330190 non-null float64\n",
      "TC_limite_Compra                    294089 non-null float64\n",
      "Acciones                            748 non-null object\n",
      "FCI_DOLAR                           0 non-null float64\n",
      "FCI_PESOS                           0 non-null float64\n",
      "Pf Bonos                            748 non-null float64\n",
      "CANTIDAD_CUOTAPARTISTA              2688 non-null float64\n",
      "CANTIDAD_COMITENTES                 2647 non-null float64\n",
      "Segmento_renta                      330418 non-null object\n",
      "TC_Perf_cargo_anual                 332218 non-null float64\n",
      "TC_Perf_Comisiones                  332218 non-null float64\n",
      "gasto_anual_tc                      332218 non-null float64\n",
      "ingreso_anual                       330190 non-null float64\n",
      "TC_Perf_int_saldofinan              332218 non-null float64\n",
      "TC_Perf_Saldo_No_Financ             332218 non-null float64\n",
      "dtypes: float64(19), int64(13), object(15)\n",
      "memory usage: 119.1+ MB\n"
     ]
    }
   ],
   "source": [
    "df.info()"
   ]
  },
  {
   "cell_type": "code",
   "execution_count": 51,
   "metadata": {
    "colab": {},
    "colab_type": "code",
    "id": "mUQs9rOQXr2G"
   },
   "outputs": [
    {
     "name": "stdout",
     "output_type": "stream",
     "text": [
      "IDSexo\n",
      "M    0.55568\n",
      "F    0.44432\n",
      "Name: IDSexo, dtype: float64\n",
      "FechaNacimiento\n",
      "1977-01-12 02:00:00.000    0.000138\n",
      "1977-12-29 02:00:00.000    0.000132\n",
      "1978-10-02 02:00:00.000    0.000132\n",
      "1976-03-01 02:00:00.000    0.000129\n",
      "1978-02-27 02:00:00.000    0.000129\n",
      "1979-02-09 02:00:00.000    0.000129\n",
      "1976-03-06 02:00:00.000    0.000126\n",
      "1977-03-23 02:00:00.000    0.000123\n",
      "1979-11-10 02:00:00.000    0.000120\n",
      "1978-08-31 02:00:00.000    0.000120\n",
      "1975-09-16 02:00:00.000    0.000117\n",
      "1982-01-15 02:00:00.000    0.000117\n",
      "1975-06-24 02:00:00.000    0.000117\n",
      "1978-10-10 02:00:00.000    0.000117\n",
      "1978-01-10 02:00:00.000    0.000117\n",
      "1981-04-21 02:00:00.000    0.000117\n",
      "1976-12-20 02:00:00.000    0.000117\n",
      "1975-12-12 02:00:00.000    0.000117\n",
      "1975-12-30 02:00:00.000    0.000114\n",
      "1977-02-14 02:00:00.000    0.000114\n",
      "1977-10-18 02:00:00.000    0.000114\n",
      "1979-01-29 02:00:00.000    0.000114\n",
      "1978-02-20 02:00:00.000    0.000114\n",
      "1980-03-05 02:00:00.000    0.000114\n",
      "1976-12-26 02:00:00.000    0.000111\n",
      "1979-09-27 02:00:00.000    0.000111\n",
      "1967-01-08 02:00:00.000    0.000111\n",
      "1983-06-26 02:00:00.000    0.000111\n",
      "1972-09-25 02:00:00.000    0.000111\n",
      "1979-05-09 02:00:00.000    0.000111\n",
      "                             ...   \n",
      "1953-12-22 00:00:00.000    0.000003\n",
      "1956-08-23 00:00:00.000    0.000003\n",
      "1958-06-04 00:00:00.000    0.000003\n",
      "1965-06-27 00:00:00.000    0.000003\n",
      "1941-10-27 00:00:00.000    0.000003\n",
      "1991-11-13 00:00:00.000    0.000003\n",
      "1995-12-02 02:00:00.000    0.000003\n",
      "1941-07-11 02:00:00.000    0.000003\n",
      "1968-03-20 00:00:00.000    0.000003\n",
      "1941-01-28 00:00:00.000    0.000003\n",
      "1946-02-17 00:00:00.000    0.000003\n",
      "1937-12-31 02:00:00.000    0.000003\n",
      "1943-10-08 02:00:00.000    0.000003\n",
      "1938-07-26 02:00:00.000    0.000003\n",
      "1988-06-19 00:00:00.000    0.000003\n",
      "1965-03-23 00:00:00.000    0.000003\n",
      "1969-08-07 00:00:00.000    0.000003\n",
      "1950-12-26 00:00:00.000    0.000003\n",
      "1993-11-24 02:00:00.000    0.000003\n",
      "1954-01-31 00:00:00.000    0.000003\n",
      "1992-09-24 02:00:00.000    0.000003\n",
      "1957-10-23 00:00:00.000    0.000003\n",
      "1992-07-26 00:00:00.000    0.000003\n",
      "1936-04-09 02:00:00.000    0.000003\n",
      "1945-05-29 00:00:00.000    0.000003\n",
      "1970-03-31 00:00:00.000    0.000003\n",
      "1995-02-16 00:00:00.000    0.000003\n",
      "1937-04-22 02:00:00.000    0.000003\n",
      "1944-02-22 02:00:00.000    0.000003\n",
      "1995-02-17 02:00:00.000    0.000003\n",
      "Name: FechaNacimiento, Length: 38394, dtype: float64\n",
      "IDEstadoCivil\n",
      "S    0.529878\n",
      "C    0.330357\n",
      "D    0.084972\n",
      "V    0.039899\n",
      "O    0.014894\n",
      "Name: IDEstadoCivil, dtype: float64\n",
      "pais_nacimiento\n",
      "ARGENTINA                       0.980459\n",
      "PARAGUAY                        0.004271\n",
      "CHILE                           0.004009\n",
      "PERU                            0.003025\n",
      "URUGUAY                         0.002592\n",
      "BOLIVIA                         0.001803\n",
      "ITALIA                          0.000921\n",
      "ESPA¥A                          0.000587\n",
      "BRASIL                          0.000418\n",
      "COLOMBIA                        0.000340\n",
      "VENEZUELA                       0.000256\n",
      "EE.UU.                          0.000151\n",
      "ARGELIA                         0.000132\n",
      "CUBA                            0.000096\n",
      "ECUADOR                         0.000084\n",
      "MEXICO                          0.000066\n",
      "ALEMANIA                        0.000060\n",
      "FRANCIA                         0.000057\n",
      "UCRANIA                         0.000051\n",
      "RUSIA                           0.000048\n",
      "CANADA                          0.000048\n",
      "DOMINICANA                      0.000042\n",
      "CHINA                           0.000042\n",
      "AUSTRALIA                       0.000033\n",
      "REINO UNIDO                     0.000027\n",
      "ISRAEL                          0.000027\n",
      "HOLANDA - PAISES BAJOS          0.000021\n",
      "PORTUGAL                        0.000021\n",
      "SUIZA                           0.000021\n",
      "COREA                           0.000021\n",
      "                                  ...   \n",
      "COSTA RICA                      0.000009\n",
      "TAIWAN                          0.000009\n",
      "NICARAGUA                       0.000006\n",
      "EGIPTO                          0.000006\n",
      "BAHAMAS                         0.000006\n",
      "HUNGRIA                         0.000006\n",
      "SUDAFRICA                       0.000006\n",
      "RUMANIA                         0.000006\n",
      "JAPON                           0.000006\n",
      "EL SALVADOR                     0.000006\n",
      "GUATEMALA                       0.000006\n",
      "POLONIA                         0.000006\n",
      "HAITI                           0.000006\n",
      "ESLOVENIA                       0.000003\n",
      "RUANDA                          0.000003\n",
      "ARABIA SAUDITA                  0.000003\n",
      "MICRONESIA ESTADOS FEDERADOS    0.000003\n",
      "ALTO VOLTA                      0.000003\n",
      "VIETNAM                         0.000003\n",
      "PUERTO RICO                     0.000003\n",
      "HONDURAS                        0.000003\n",
      "UGANDA                          0.000003\n",
      "BELGICA                         0.000003\n",
      "JORDANIA                        0.000003\n",
      "TOGO                            0.000003\n",
      "EXTRANJERO                      0.000003\n",
      "MARRUECOS                       0.000003\n",
      "INDIA                           0.000003\n",
      "INDONESIA                       0.000003\n",
      "CONGO                           0.000003\n",
      "Name: pais_nacimiento, Length: 71, dtype: float64\n",
      "nacionidad\n",
      "ARGENTINO               0.985708\n",
      "PARAGUAYO               0.003323\n",
      "PERUANO                 0.002456\n",
      "URUGUAYO                0.002258\n",
      "CHILENO                 0.002249\n",
      "BOLIVIANO               0.001291\n",
      "ITALIANO                0.000753\n",
      "ESPA¥OL                 0.000430\n",
      "BRASILERO               0.000355\n",
      "COLOMBIANO              0.000304\n",
      "VENEZOLANO              0.000190\n",
      "AMERICANO               0.000129\n",
      "ECUATORIANO             0.000057\n",
      "CANADIENSE              0.000042\n",
      "MEXICANO                0.000042\n",
      "ALEMAN                  0.000039\n",
      "CUBANO                  0.000033\n",
      "UCRANIANO               0.000033\n",
      "FRANCES                 0.000033\n",
      "CHINO                   0.000024\n",
      "AUSTRALIANO             0.000018\n",
      "PANAME¥O                0.000018\n",
      "INGLES                  0.000015\n",
      "ISRAELITA               0.000015\n",
      "COREANO                 0.000015\n",
      "ARGELINO                0.000015\n",
      "SUIZO                   0.000012\n",
      "REPUBLICA DOMINICANA    0.000012\n",
      "PORTUGUES               0.000012\n",
      "RUSO/A                  0.000009\n",
      "CROATA                  0.000009\n",
      "COSTARICENSE            0.000009\n",
      "GRIEGO                  0.000006\n",
      "GUATEMALTECO            0.000006\n",
      "BULGARO                 0.000006\n",
      "POLACO                  0.000006\n",
      "NEERLANDES              0.000006\n",
      "LIBANES                 0.000006\n",
      "JAPONES                 0.000006\n",
      "ARMENIO                 0.000006\n",
      "SALVADORE¥O             0.000006\n",
      "HAITIANO                0.000003\n",
      "SIRIO                   0.000003\n",
      "UGANDES                 0.000003\n",
      "RUANDES                 0.000003\n",
      "HUNGARO                 0.000003\n",
      "RUMANO                  0.000003\n",
      "PUERTORRIQUE¥O          0.000003\n",
      "EGIPCIO                 0.000003\n",
      "MICRONESIO              0.000003\n",
      "IRANI                   0.000003\n",
      "SUDAFRICANO             0.000003\n",
      "NICARAGUENSE            0.000003\n",
      "Name: nacionidad, dtype: float64\n",
      "situacion_laboral\n",
      "Relacion de dependencia fijo          0.871401\n",
      "Relacion de dependencia contratado    0.128599\n",
      "Name: situacion_laboral, dtype: float64\n",
      "Situacion_Vivienda\n",
      "PROPIA           0.697623\n",
      "FAMILIAR         0.203297\n",
      "ALQUILADA        0.075318\n",
      "PRESTADA         0.020484\n",
      "DE LA EMPRESA    0.003278\n",
      "Name: Situacion_Vivienda, dtype: float64\n",
      "pais_domicilio\n",
      "ARGENTINA    1.0\n",
      "Name: pais_domicilio, dtype: float64\n",
      "ciudad_domicilio\n",
      "CORDOBA                           0.070529\n",
      "CIUDAD AUTONOMA BUENOS AIRES      0.063470\n",
      "SAN MIGUEL DE TUCUMAN             0.036729\n",
      "SALTA                             0.028876\n",
      "ROSARIO                           0.027705\n",
      "RESISTENCIA                       0.020532\n",
      "POSADAS                           0.020475\n",
      "MAR DEL PLATA                     0.017055\n",
      "SANTIAGO DEL ESTERO               0.016974\n",
      "NEUQUEN                           0.013879\n",
      "LA PLATA                          0.013229\n",
      "RIO GALLEGOS                      0.011796\n",
      "CORRIENTES                        0.011429\n",
      "BAHIA BLANCA                      0.011375\n",
      "GODOY CRUZ                        0.011050\n",
      "PARANA                            0.010650\n",
      "RAFAELA                           0.010081\n",
      "FORMOSA                           0.009539\n",
      "VILLA MARIA                       0.009072\n",
      "COMODORO RIVADAVIA                0.008916\n",
      "SANTA FE                          0.008699\n",
      "LA BANDA                          0.008446\n",
      "LA RIOJA                          0.008236\n",
      "USHUAIA                           0.007733\n",
      "LANUS                             0.006917\n",
      "SAN LUIS                          0.006761\n",
      "SAN FDO DEL VALLE DE CATAMARCA    0.006180\n",
      "SAN SALVADOR DE JUJUY             0.006020\n",
      "CAPITAL                           0.005936\n",
      "SANTA ROSA                        0.005704\n",
      "                                    ...   \n",
      "MALENA                            0.000003\n",
      "ÑU PORA                           0.000003\n",
      "PLAYA LAS MARGARITAS              0.000003\n",
      "PUEBLO MIGUEL TORRES              0.000003\n",
      "LAS CAÑITAS                       0.000003\n",
      "MACOMITA                          0.000003\n",
      "SOLA                              0.000003\n",
      "LAS PAMPITAS                      0.000003\n",
      "ZONA DELTA SAN FERNANDO           0.000003\n",
      "EL DURAZNITO                      0.000003\n",
      "PRIMER DISTRITO                   0.000003\n",
      "PUENTE DEL INCA                   0.000003\n",
      "TUCLAME                           0.000003\n",
      "HUMAITA                           0.000003\n",
      "VILLA LAS PALMAS                  0.000003\n",
      "TORDILLO                          0.000003\n",
      "CANDIOTI                          0.000003\n",
      "LA ABRITA                         0.000003\n",
      "MANZONE                           0.000003\n",
      "LAGUNA DE LOBOS                   0.000003\n",
      "CALCHINES                         0.000003\n",
      "CIENAGUITA                        0.000003\n",
      "COLALAO DEL VALLE                 0.000003\n",
      "URUNDEL                           0.000003\n",
      "KILOMETRO 24                      0.000003\n",
      "LAS TIGRERAS                      0.000003\n",
      "CUCHILLO  CO                      0.000003\n",
      "ABRA DEL TAFI                     0.000003\n",
      "TIRO FEDERAL                      0.000003\n",
      "EL ALTO SALVADOR                  0.000003\n",
      "Name: ciudad_domicilio, Length: 3008, dtype: float64\n",
      "provincia_domicilio\n",
      "BUENOS AIRES           0.277929\n",
      "CORDOBA                0.145507\n",
      "SANTA FE               0.076712\n",
      "CDAD AUTONOMA BS AS    0.063470\n",
      "TUCUMAN                0.062372\n",
      "MENDOZA                0.043583\n",
      "SALTA                  0.035314\n",
      "CHACO                  0.031001\n",
      "SANTIAGO DEL ESTERO    0.030221\n",
      "MISIONES               0.026769\n",
      "ENTRE RIOS             0.025604\n",
      "SAN JUAN               0.024508\n",
      "NEUQUEN                0.019845\n",
      "CHUBUT                 0.018774\n",
      "SANTA CRUZ             0.018015\n",
      "CORRIENTES             0.016932\n",
      "RIO NEGRO              0.013509\n",
      "FORMOSA                0.011050\n",
      "LA RIOJA               0.010671\n",
      "LA PAMPA               0.010472\n",
      "TIERRA DEL FUEGO       0.010343\n",
      "SAN LUIS               0.009747\n",
      "JUJUY                  0.009042\n",
      "CATAMARCA              0.008612\n",
      "Name: provincia_domicilio, dtype: float64\n",
      "SUM_CA_Promo_Consumo\n",
      "0,00        0.932033\n",
      "1000,00     0.002450\n",
      "500,00      0.001041\n",
      "1500,00     0.000894\n",
      "2000,00     0.000765\n",
      "300,00      0.000397\n",
      "200,00      0.000394\n",
      "600,00      0.000337\n",
      "3000,00     0.000307\n",
      "1200,00     0.000283\n",
      "2500,00     0.000274\n",
      "400,00      0.000274\n",
      "800,00      0.000274\n",
      "700,00      0.000271\n",
      "100,00      0.000235\n",
      "1800,00     0.000211\n",
      "4000,00     0.000202\n",
      "150,00      0.000187\n",
      "3500,00     0.000172\n",
      "1300,00     0.000166\n",
      "1100,00     0.000160\n",
      "1600,00     0.000144\n",
      "250,00      0.000138\n",
      "900,00      0.000135\n",
      "2200,00     0.000135\n",
      "2300,00     0.000126\n",
      "1400,00     0.000123\n",
      "1700,00     0.000120\n",
      "450,00      0.000117\n",
      "240,00      0.000111\n",
      "              ...   \n",
      "7657,34     0.000003\n",
      "3295,43     0.000003\n",
      "6819,34     0.000003\n",
      "4379,00     0.000003\n",
      "436,51      0.000003\n",
      "10229,46    0.000003\n",
      "951,10      0.000003\n",
      "2236,50     0.000003\n",
      "13628,68    0.000003\n",
      "1044,20     0.000003\n",
      "1411,79     0.000003\n",
      "5665,65     0.000003\n",
      "2967,94     0.000003\n",
      "3448,20     0.000003\n",
      "5195,22     0.000003\n",
      "5249,19     0.000003\n",
      "3374,33     0.000003\n",
      "4076,50     0.000003\n",
      "2953,00     0.000003\n",
      "5021,98     0.000003\n",
      "2014,00     0.000003\n",
      "4947,21     0.000003\n",
      "204,50      0.000003\n",
      "10007,15    0.000003\n",
      "251,00      0.000003\n",
      "7883,91     0.000003\n",
      "582,77      0.000003\n",
      "1850,90     0.000003\n",
      "8024,68     0.000003\n",
      "13730,01    0.000003\n",
      "Name: SUM_CA_Promo_Consumo, Length: 13963, dtype: float64\n",
      "monto_pf_pesos\n"
     ]
    },
    {
     "name": "stdout",
     "output_type": "stream",
     "text": [
      "0,00          0.972626\n",
      "100000,00     0.000647\n",
      "50000,00      0.000569\n",
      "10000,00      0.000458\n",
      "200000,00     0.000418\n",
      "30000,00      0.000409\n",
      "20000,00      0.000406\n",
      "40000,00      0.000346\n",
      "60000,00      0.000295\n",
      "150000,00     0.000265\n",
      "15000,00      0.000265\n",
      "70000,00      0.000238\n",
      "80000,00      0.000232\n",
      "300000,00     0.000229\n",
      "25000,00      0.000229\n",
      "5000,00       0.000226\n",
      "1000,00       0.000217\n",
      "90000,00      0.000196\n",
      "2000,00       0.000175\n",
      "250000,00     0.000169\n",
      "35000,00      0.000166\n",
      "400000,00     0.000166\n",
      "110000,00     0.000151\n",
      "120000,00     0.000147\n",
      "500000,00     0.000135\n",
      "45000,00      0.000126\n",
      "130000,00     0.000123\n",
      "55000,00      0.000120\n",
      "180000,00     0.000117\n",
      "12000,00      0.000114\n",
      "                ...   \n",
      "1419240,95    0.000003\n",
      "50100,00      0.000003\n",
      "1732126,23    0.000003\n",
      "1096000,00    0.000003\n",
      "530905,89     0.000003\n",
      "67127,00      0.000003\n",
      "309000,00     0.000003\n",
      "300600,00     0.000003\n",
      "191483,18     0.000003\n",
      "192094,24     0.000003\n",
      "864000,00     0.000003\n",
      "573747,61     0.000003\n",
      "129778,06     0.000003\n",
      "49937,35      0.000003\n",
      "15918,00      0.000003\n",
      "389610,00     0.000003\n",
      "630341,00     0.000003\n",
      "320155,18     0.000003\n",
      "57500,00      0.000003\n",
      "103527,52     0.000003\n",
      "510500,00     0.000003\n",
      "36720,00      0.000003\n",
      "17032,01      0.000003\n",
      "33677,00      0.000003\n",
      "143898,98     0.000003\n",
      "20480,78      0.000003\n",
      "18183,56      0.000003\n",
      "1488027,00    0.000003\n",
      "66001,98      0.000003\n",
      "938891,70     0.000003\n",
      "Name: monto_pf_pesos, Length: 4317, dtype: float64\n",
      "monto_pf_dolar\n",
      "0,00        0.998104\n",
      "1000,00     0.000090\n",
      "3000,00     0.000027\n",
      "5000,00     0.000024\n",
      "10000,00    0.000024\n",
      "1500,00     0.000021\n",
      "2000,00     0.000018\n",
      "6000,00     0.000012\n",
      "20000,00    0.000012\n",
      "12000,00    0.000009\n",
      "1200,00     0.000009\n",
      "8000,00     0.000009\n",
      "11000,00    0.000009\n",
      "5300,00     0.000009\n",
      "50000,00    0.000009\n",
      "2500,00     0.000009\n",
      "1300,00     0.000009\n",
      "1000,01     0.000006\n",
      "4000,00     0.000006\n",
      "1253,97     0.000006\n",
      "999,00      0.000006\n",
      "6500,00     0.000006\n",
      "8500,00     0.000006\n",
      "3500,00     0.000006\n",
      "30052,32    0.000006\n",
      "13000,00    0.000006\n",
      "7000,00     0.000006\n",
      "1714,22     0.000006\n",
      "46300,00    0.000006\n",
      "2812,54     0.000003\n",
      "              ...   \n",
      "2030,18     0.000003\n",
      "1096,00     0.000003\n",
      "3575,55     0.000003\n",
      "7006,90     0.000003\n",
      "3134,00     0.000003\n",
      "17771,39    0.000003\n",
      "75000,00    0.000003\n",
      "3613,50     0.000003\n",
      "5596,00     0.000003\n",
      "1045,20     0.000003\n",
      "1041,81     0.000003\n",
      "2251,94     0.000003\n",
      "8008,12     0.000003\n",
      "8027,65     0.000003\n",
      "3013,73     0.000003\n",
      "4300,00     0.000003\n",
      "2399,88     0.000003\n",
      "6156,57     0.000003\n",
      "10003,31    0.000003\n",
      "10012,06    0.000003\n",
      "15172,38    0.000003\n",
      "8418,31     0.000003\n",
      "22310,65    0.000003\n",
      "4551,60     0.000003\n",
      "3991,85     0.000003\n",
      "4741,11     0.000003\n",
      "13673,00    0.000003\n",
      "3275,60     0.000003\n",
      "1001,00     0.000003\n",
      "5638,40     0.000003\n",
      "Name: monto_pf_dolar, Length: 535, dtype: float64\n",
      "Acciones\n",
      "0              0.672460\n",
      "151861,38      0.046791\n",
      "0.0            0.008021\n",
      "13433,2        0.006684\n",
      "75405          0.004011\n",
      "7095           0.004011\n",
      "30388,7        0.002674\n",
      "36194,4        0.002674\n",
      "39360          0.002674\n",
      "19500          0.002674\n",
      "24129,6        0.002674\n",
      "6149           0.002674\n",
      "20244,4        0.002674\n",
      "53700,3        0.001337\n",
      "5142850        0.001337\n",
      "71634,75       0.001337\n",
      "71621,8        0.001337\n",
      "169661,25      0.001337\n",
      "154094,21      0.001337\n",
      "202158,95      0.001337\n",
      "276300         0.001337\n",
      "227354,8       0.001337\n",
      "189625,7       0.001337\n",
      "101678,4       0.001337\n",
      "118005,56      0.001337\n",
      "918            0.001337\n",
      "2694932,6      0.001337\n",
      "2084329,018    0.001337\n",
      "1284784,13     0.001337\n",
      "288851,64      0.001337\n",
      "                 ...   \n",
      "38456,55       0.001337\n",
      "636384,75      0.001337\n",
      "22454,1        0.001337\n",
      "272629,75      0.001337\n",
      "178709,85      0.001337\n",
      "929079,46      0.001337\n",
      "71612,85       0.001337\n",
      "74667,78       0.001337\n",
      "25320          0.001337\n",
      "26745          0.001337\n",
      "739977,09      0.001337\n",
      "443553,6       0.001337\n",
      "205855,65      0.001337\n",
      "71321,35       0.001337\n",
      "97123,4        0.001337\n",
      "20280          0.001337\n",
      "36,8           0.001337\n",
      "119437,81      0.001337\n",
      "285091         0.001337\n",
      "709,5          0.001337\n",
      "63104,1        0.001337\n",
      "10556,7        0.001337\n",
      "246641,12      0.001337\n",
      "64100,96       0.001337\n",
      "218582,9       0.001337\n",
      "13815          0.001337\n",
      "557587,2       0.001337\n",
      "9027           0.001337\n",
      "205291,46      0.001337\n",
      "33675          0.001337\n",
      "Name: Acciones, Length: 192, dtype: float64\n",
      "Segmento_renta\n",
      "BAJA         0.448384\n",
      "MEDIA        0.431929\n",
      "ALTA         0.103614\n",
      "SIN RENTA    0.016074\n",
      "Name: Segmento_renta, dtype: float64\n"
     ]
    }
   ],
   "source": [
    "# show categories in object variables\n",
    "for i in df.columns:\n",
    "    if df[i].dtype == 'O':\n",
    "        print(i)\n",
    "        print(df[i].value_counts(normalize = True))"
   ]
  },
  {
   "cell_type": "code",
   "execution_count": 52,
   "metadata": {
    "colab": {},
    "colab_type": "code",
    "id": "OKXtgdfgXr2P"
   },
   "outputs": [
    {
     "data": {
      "text/html": [
       "<div>\n",
       "<style scoped>\n",
       "    .dataframe tbody tr th:only-of-type {\n",
       "        vertical-align: middle;\n",
       "    }\n",
       "\n",
       "    .dataframe tbody tr th {\n",
       "        vertical-align: top;\n",
       "    }\n",
       "\n",
       "    .dataframe thead th {\n",
       "        text-align: right;\n",
       "    }\n",
       "</style>\n",
       "<table border=\"1\" class=\"dataframe\">\n",
       "  <thead>\n",
       "    <tr style=\"text-align: right;\">\n",
       "      <th></th>\n",
       "      <th>ActividadAFIP</th>\n",
       "      <th>sit_bcra</th>\n",
       "      <th>vb_antiguedad_tc</th>\n",
       "      <th>vb_actividad_tc</th>\n",
       "      <th>vb_uso_tc_prom_3</th>\n",
       "      <th>uso_canales_digitales</th>\n",
       "      <th>id_Cobis</th>\n",
       "      <th>SUM_CA_Pesos_SD_Primer_Dia_Mes</th>\n",
       "      <th>SUM_CA_Pesos_SD_Promedio_Mensual</th>\n",
       "      <th>SUM_CA_Pesos_SD_Ultimo_Dia_Mes</th>\n",
       "      <th>...</th>\n",
       "      <th>FCI_PESOS</th>\n",
       "      <th>Pf Bonos</th>\n",
       "      <th>CANTIDAD_CUOTAPARTISTA</th>\n",
       "      <th>CANTIDAD_COMITENTES</th>\n",
       "      <th>TC_Perf_cargo_anual</th>\n",
       "      <th>TC_Perf_Comisiones</th>\n",
       "      <th>gasto_anual_tc</th>\n",
       "      <th>ingreso_anual</th>\n",
       "      <th>TC_Perf_int_saldofinan</th>\n",
       "      <th>TC_Perf_Saldo_No_Financ</th>\n",
       "    </tr>\n",
       "  </thead>\n",
       "  <tbody>\n",
       "    <tr>\n",
       "      <th>count</th>\n",
       "      <td>332202.000000</td>\n",
       "      <td>332218.000000</td>\n",
       "      <td>332218.000000</td>\n",
       "      <td>332218.000000</td>\n",
       "      <td>3.322180e+05</td>\n",
       "      <td>332218.000000</td>\n",
       "      <td>3.322180e+05</td>\n",
       "      <td>3.322180e+05</td>\n",
       "      <td>3.322180e+05</td>\n",
       "      <td>3.322180e+05</td>\n",
       "      <td>...</td>\n",
       "      <td>0.0</td>\n",
       "      <td>748.0</td>\n",
       "      <td>2688.000000</td>\n",
       "      <td>2647.000000</td>\n",
       "      <td>332218.000000</td>\n",
       "      <td>332218.000000</td>\n",
       "      <td>3.322180e+05</td>\n",
       "      <td>3.301900e+05</td>\n",
       "      <td>332218.000000</td>\n",
       "      <td>3.322180e+05</td>\n",
       "    </tr>\n",
       "    <tr>\n",
       "      <th>mean</th>\n",
       "      <td>314650.658903</td>\n",
       "      <td>1.358683</td>\n",
       "      <td>131.039706</td>\n",
       "      <td>2.531362</td>\n",
       "      <td>1.822899e+04</td>\n",
       "      <td>0.746269</td>\n",
       "      <td>4.370706e+06</td>\n",
       "      <td>5.060221e+03</td>\n",
       "      <td>3.846532e+03</td>\n",
       "      <td>4.211211e+03</td>\n",
       "      <td>...</td>\n",
       "      <td>NaN</td>\n",
       "      <td>0.0</td>\n",
       "      <td>1.045015</td>\n",
       "      <td>1.023045</td>\n",
       "      <td>494.106358</td>\n",
       "      <td>27350.700123</td>\n",
       "      <td>1.937492e+06</td>\n",
       "      <td>7.792393e+05</td>\n",
       "      <td>1465.092994</td>\n",
       "      <td>1.890136e+05</td>\n",
       "    </tr>\n",
       "    <tr>\n",
       "      <th>std</th>\n",
       "      <td>372246.068644</td>\n",
       "      <td>0.968272</td>\n",
       "      <td>71.462438</td>\n",
       "      <td>20.870141</td>\n",
       "      <td>3.864792e+04</td>\n",
       "      <td>0.435146</td>\n",
       "      <td>1.990891e+06</td>\n",
       "      <td>3.093108e+04</td>\n",
       "      <td>2.176486e+04</td>\n",
       "      <td>2.759073e+04</td>\n",
       "      <td>...</td>\n",
       "      <td>NaN</td>\n",
       "      <td>0.0</td>\n",
       "      <td>0.231139</td>\n",
       "      <td>0.150075</td>\n",
       "      <td>547.034044</td>\n",
       "      <td>17251.916325</td>\n",
       "      <td>1.907691e+06</td>\n",
       "      <td>2.008266e+08</td>\n",
       "      <td>2870.436760</td>\n",
       "      <td>3.383529e+05</td>\n",
       "    </tr>\n",
       "    <tr>\n",
       "      <th>min</th>\n",
       "      <td>0.000000</td>\n",
       "      <td>1.000000</td>\n",
       "      <td>0.000000</td>\n",
       "      <td>0.000000</td>\n",
       "      <td>0.000000e+00</td>\n",
       "      <td>0.000000</td>\n",
       "      <td>7.250000e+02</td>\n",
       "      <td>-4.576400e+03</td>\n",
       "      <td>-5.665670e+03</td>\n",
       "      <td>-5.914800e+03</td>\n",
       "      <td>...</td>\n",
       "      <td>NaN</td>\n",
       "      <td>0.0</td>\n",
       "      <td>1.000000</td>\n",
       "      <td>1.000000</td>\n",
       "      <td>-2733.340000</td>\n",
       "      <td>-28420.680000</td>\n",
       "      <td>-2.352657e+06</td>\n",
       "      <td>0.000000e+00</td>\n",
       "      <td>0.000000</td>\n",
       "      <td>-6.600000e+03</td>\n",
       "    </tr>\n",
       "    <tr>\n",
       "      <th>25%</th>\n",
       "      <td>0.000000</td>\n",
       "      <td>1.000000</td>\n",
       "      <td>81.000000</td>\n",
       "      <td>1.000000</td>\n",
       "      <td>0.000000e+00</td>\n",
       "      <td>0.000000</td>\n",
       "      <td>2.873754e+06</td>\n",
       "      <td>0.000000e+00</td>\n",
       "      <td>0.000000e+00</td>\n",
       "      <td>0.000000e+00</td>\n",
       "      <td>...</td>\n",
       "      <td>NaN</td>\n",
       "      <td>0.0</td>\n",
       "      <td>1.000000</td>\n",
       "      <td>1.000000</td>\n",
       "      <td>0.000000</td>\n",
       "      <td>16774.590000</td>\n",
       "      <td>6.412167e+05</td>\n",
       "      <td>1.440000e+05</td>\n",
       "      <td>25.480000</td>\n",
       "      <td>1.200000e+04</td>\n",
       "    </tr>\n",
       "    <tr>\n",
       "      <th>50%</th>\n",
       "      <td>0.000000</td>\n",
       "      <td>1.000000</td>\n",
       "      <td>132.000000</td>\n",
       "      <td>2.000000</td>\n",
       "      <td>6.779000e+03</td>\n",
       "      <td>1.000000</td>\n",
       "      <td>4.948296e+06</td>\n",
       "      <td>0.000000e+00</td>\n",
       "      <td>6.800000e-01</td>\n",
       "      <td>0.000000e+00</td>\n",
       "      <td>...</td>\n",
       "      <td>NaN</td>\n",
       "      <td>0.0</td>\n",
       "      <td>1.000000</td>\n",
       "      <td>1.000000</td>\n",
       "      <td>516.000000</td>\n",
       "      <td>26622.120000</td>\n",
       "      <td>1.491267e+06</td>\n",
       "      <td>2.568000e+05</td>\n",
       "      <td>230.035000</td>\n",
       "      <td>6.772800e+04</td>\n",
       "    </tr>\n",
       "    <tr>\n",
       "      <th>75%</th>\n",
       "      <td>691001.000000</td>\n",
       "      <td>1.000000</td>\n",
       "      <td>167.000000</td>\n",
       "      <td>2.000000</td>\n",
       "      <td>2.091900e+04</td>\n",
       "      <td>1.000000</td>\n",
       "      <td>6.034362e+06</td>\n",
       "      <td>4.393575e+02</td>\n",
       "      <td>1.247793e+03</td>\n",
       "      <td>2.920025e+02</td>\n",
       "      <td>...</td>\n",
       "      <td>NaN</td>\n",
       "      <td>0.0</td>\n",
       "      <td>1.000000</td>\n",
       "      <td>1.000000</td>\n",
       "      <td>762.000000</td>\n",
       "      <td>36086.760000</td>\n",
       "      <td>2.655541e+06</td>\n",
       "      <td>3.628800e+05</td>\n",
       "      <td>1449.870000</td>\n",
       "      <td>2.231664e+05</td>\n",
       "    </tr>\n",
       "    <tr>\n",
       "      <th>max</th>\n",
       "      <td>990000.000000</td>\n",
       "      <td>11.000000</td>\n",
       "      <td>491.000000</td>\n",
       "      <td>999.000000</td>\n",
       "      <td>3.837546e+06</td>\n",
       "      <td>1.000000</td>\n",
       "      <td>6.923741e+06</td>\n",
       "      <td>5.147295e+06</td>\n",
       "      <td>1.902228e+06</td>\n",
       "      <td>3.275078e+06</td>\n",
       "      <td>...</td>\n",
       "      <td>NaN</td>\n",
       "      <td>0.0</td>\n",
       "      <td>3.000000</td>\n",
       "      <td>2.000000</td>\n",
       "      <td>4037.500000</td>\n",
       "      <td>523633.560000</td>\n",
       "      <td>5.136193e+07</td>\n",
       "      <td>1.080000e+11</td>\n",
       "      <td>66698.520000</td>\n",
       "      <td>1.397517e+07</td>\n",
       "    </tr>\n",
       "  </tbody>\n",
       "</table>\n",
       "<p>8 rows × 32 columns</p>\n",
       "</div>"
      ],
      "text/plain": [
       "       ActividadAFIP       sit_bcra  vb_antiguedad_tc  vb_actividad_tc  \\\n",
       "count  332202.000000  332218.000000     332218.000000    332218.000000   \n",
       "mean   314650.658903       1.358683        131.039706         2.531362   \n",
       "std    372246.068644       0.968272         71.462438        20.870141   \n",
       "min         0.000000       1.000000          0.000000         0.000000   \n",
       "25%         0.000000       1.000000         81.000000         1.000000   \n",
       "50%         0.000000       1.000000        132.000000         2.000000   \n",
       "75%    691001.000000       1.000000        167.000000         2.000000   \n",
       "max    990000.000000      11.000000        491.000000       999.000000   \n",
       "\n",
       "       vb_uso_tc_prom_3  uso_canales_digitales      id_Cobis  \\\n",
       "count      3.322180e+05          332218.000000  3.322180e+05   \n",
       "mean       1.822899e+04               0.746269  4.370706e+06   \n",
       "std        3.864792e+04               0.435146  1.990891e+06   \n",
       "min        0.000000e+00               0.000000  7.250000e+02   \n",
       "25%        0.000000e+00               0.000000  2.873754e+06   \n",
       "50%        6.779000e+03               1.000000  4.948296e+06   \n",
       "75%        2.091900e+04               1.000000  6.034362e+06   \n",
       "max        3.837546e+06               1.000000  6.923741e+06   \n",
       "\n",
       "       SUM_CA_Pesos_SD_Primer_Dia_Mes  SUM_CA_Pesos_SD_Promedio_Mensual  \\\n",
       "count                    3.322180e+05                      3.322180e+05   \n",
       "mean                     5.060221e+03                      3.846532e+03   \n",
       "std                      3.093108e+04                      2.176486e+04   \n",
       "min                     -4.576400e+03                     -5.665670e+03   \n",
       "25%                      0.000000e+00                      0.000000e+00   \n",
       "50%                      0.000000e+00                      6.800000e-01   \n",
       "75%                      4.393575e+02                      1.247793e+03   \n",
       "max                      5.147295e+06                      1.902228e+06   \n",
       "\n",
       "       SUM_CA_Pesos_SD_Ultimo_Dia_Mes  ...  FCI_PESOS  Pf Bonos  \\\n",
       "count                    3.322180e+05  ...        0.0     748.0   \n",
       "mean                     4.211211e+03  ...        NaN       0.0   \n",
       "std                      2.759073e+04  ...        NaN       0.0   \n",
       "min                     -5.914800e+03  ...        NaN       0.0   \n",
       "25%                      0.000000e+00  ...        NaN       0.0   \n",
       "50%                      0.000000e+00  ...        NaN       0.0   \n",
       "75%                      2.920025e+02  ...        NaN       0.0   \n",
       "max                      3.275078e+06  ...        NaN       0.0   \n",
       "\n",
       "       CANTIDAD_CUOTAPARTISTA  CANTIDAD_COMITENTES  TC_Perf_cargo_anual  \\\n",
       "count             2688.000000          2647.000000        332218.000000   \n",
       "mean                 1.045015             1.023045           494.106358   \n",
       "std                  0.231139             0.150075           547.034044   \n",
       "min                  1.000000             1.000000         -2733.340000   \n",
       "25%                  1.000000             1.000000             0.000000   \n",
       "50%                  1.000000             1.000000           516.000000   \n",
       "75%                  1.000000             1.000000           762.000000   \n",
       "max                  3.000000             2.000000          4037.500000   \n",
       "\n",
       "       TC_Perf_Comisiones  gasto_anual_tc  ingreso_anual  \\\n",
       "count       332218.000000    3.322180e+05   3.301900e+05   \n",
       "mean         27350.700123    1.937492e+06   7.792393e+05   \n",
       "std          17251.916325    1.907691e+06   2.008266e+08   \n",
       "min         -28420.680000   -2.352657e+06   0.000000e+00   \n",
       "25%          16774.590000    6.412167e+05   1.440000e+05   \n",
       "50%          26622.120000    1.491267e+06   2.568000e+05   \n",
       "75%          36086.760000    2.655541e+06   3.628800e+05   \n",
       "max         523633.560000    5.136193e+07   1.080000e+11   \n",
       "\n",
       "       TC_Perf_int_saldofinan  TC_Perf_Saldo_No_Financ  \n",
       "count           332218.000000             3.322180e+05  \n",
       "mean              1465.092994             1.890136e+05  \n",
       "std               2870.436760             3.383529e+05  \n",
       "min                  0.000000            -6.600000e+03  \n",
       "25%                 25.480000             1.200000e+04  \n",
       "50%                230.035000             6.772800e+04  \n",
       "75%               1449.870000             2.231664e+05  \n",
       "max              66698.520000             1.397517e+07  \n",
       "\n",
       "[8 rows x 32 columns]"
      ]
     },
     "execution_count": 52,
     "metadata": {},
     "output_type": "execute_result"
    }
   ],
   "source": [
    "df.describe()"
   ]
  },
  {
   "cell_type": "code",
   "execution_count": 53,
   "metadata": {
    "colab": {},
    "colab_type": "code",
    "id": "l1YQotOGXr2Z",
    "scrolled": true
   },
   "outputs": [],
   "source": [
    "# Fix comma-dot problem in 3 variables\n",
    "df['monto_pf_dolar'] = df['monto_pf_dolar'].str.replace(',','.', regex = True)\n",
    "df['monto_pf_pesos'] = df['monto_pf_pesos'].str.replace(',','.', regex = True)\n",
    "df['SUM_CA_Promo_Consumo'] = df['SUM_CA_Promo_Consumo'].str.replace(',','.', regex = True)"
   ]
  },
  {
   "cell_type": "code",
   "execution_count": 54,
   "metadata": {
    "colab": {},
    "colab_type": "code",
    "id": "bjm76bRzXr2g"
   },
   "outputs": [
    {
     "data": {
      "text/plain": [
       "dtype('float64')"
      ]
     },
     "execution_count": 54,
     "metadata": {},
     "output_type": "execute_result"
    }
   ],
   "source": [
    "df['monto_pf_dolar'] = pd.to_numeric(df['monto_pf_dolar'])\n",
    "df['monto_pf_dolar'].dtype"
   ]
  },
  {
   "cell_type": "code",
   "execution_count": 55,
   "metadata": {
    "colab": {},
    "colab_type": "code",
    "id": "FJIV3TgPXr25"
   },
   "outputs": [
    {
     "data": {
      "text/plain": [
       "dtype('float64')"
      ]
     },
     "execution_count": 55,
     "metadata": {},
     "output_type": "execute_result"
    }
   ],
   "source": [
    "df['monto_pf_pesos'] = pd.to_numeric(df['monto_pf_pesos'])\n",
    "df['monto_pf_pesos'].dtype"
   ]
  },
  {
   "cell_type": "code",
   "execution_count": 56,
   "metadata": {
    "colab": {},
    "colab_type": "code",
    "id": "8N90WX6IXr3X"
   },
   "outputs": [
    {
     "data": {
      "text/plain": [
       "dtype('float64')"
      ]
     },
     "execution_count": 56,
     "metadata": {},
     "output_type": "execute_result"
    }
   ],
   "source": [
    "df['SUM_CA_Promo_Consumo'] = pd.to_numeric(df['SUM_CA_Promo_Consumo'])\n",
    "df['SUM_CA_Promo_Consumo'].dtype"
   ]
  },
  {
   "cell_type": "code",
   "execution_count": 57,
   "metadata": {
    "colab": {},
    "colab_type": "code",
    "id": "bXhCurhSXr36"
   },
   "outputs": [],
   "source": [
    "# fix column name\n",
    "df.rename(columns = {'nacionidad':'nacionalidad'}, inplace = True)"
   ]
  },
  {
   "cell_type": "code",
   "execution_count": 58,
   "metadata": {},
   "outputs": [
    {
     "data": {
      "text/plain": [
       "0    1932-02-03 02:00:00.000\n",
       "1    1934-09-21 02:00:00.000\n",
       "2    1934-09-29 02:00:00.000\n",
       "3    1935-02-24 02:00:00.000\n",
       "4    1935-07-17 02:00:00.000\n",
       "Name: FechaNacimiento, dtype: object"
      ]
     },
     "execution_count": 58,
     "metadata": {},
     "output_type": "execute_result"
    }
   ],
   "source": [
    "df['FechaNacimiento'].head()"
   ]
  },
  {
   "cell_type": "code",
   "execution_count": 59,
   "metadata": {
    "colab": {},
    "colab_type": "code",
    "id": "7zaeBY6DXr4D"
   },
   "outputs": [
    {
     "data": {
      "text/html": [
       "<div>\n",
       "<style scoped>\n",
       "    .dataframe tbody tr th:only-of-type {\n",
       "        vertical-align: middle;\n",
       "    }\n",
       "\n",
       "    .dataframe tbody tr th {\n",
       "        vertical-align: top;\n",
       "    }\n",
       "\n",
       "    .dataframe thead th {\n",
       "        text-align: right;\n",
       "    }\n",
       "</style>\n",
       "<table border=\"1\" class=\"dataframe\">\n",
       "  <thead>\n",
       "    <tr style=\"text-align: right;\">\n",
       "      <th></th>\n",
       "      <th>edad</th>\n",
       "      <th>FechaNacimiento</th>\n",
       "    </tr>\n",
       "  </thead>\n",
       "  <tbody>\n",
       "    <tr>\n",
       "      <th>0</th>\n",
       "      <td>87</td>\n",
       "      <td>1932-02-03 02:00:00.000</td>\n",
       "    </tr>\n",
       "    <tr>\n",
       "      <th>1</th>\n",
       "      <td>85</td>\n",
       "      <td>1934-09-21 02:00:00.000</td>\n",
       "    </tr>\n",
       "    <tr>\n",
       "      <th>2</th>\n",
       "      <td>85</td>\n",
       "      <td>1934-09-29 02:00:00.000</td>\n",
       "    </tr>\n",
       "    <tr>\n",
       "      <th>3</th>\n",
       "      <td>84</td>\n",
       "      <td>1935-02-24 02:00:00.000</td>\n",
       "    </tr>\n",
       "    <tr>\n",
       "      <th>4</th>\n",
       "      <td>84</td>\n",
       "      <td>1935-07-17 02:00:00.000</td>\n",
       "    </tr>\n",
       "    <tr>\n",
       "      <th>5</th>\n",
       "      <td>84</td>\n",
       "      <td>1935-08-20 02:00:00.000</td>\n",
       "    </tr>\n",
       "    <tr>\n",
       "      <th>6</th>\n",
       "      <td>84</td>\n",
       "      <td>1935-10-24 00:00:00.000</td>\n",
       "    </tr>\n",
       "    <tr>\n",
       "      <th>7</th>\n",
       "      <td>84</td>\n",
       "      <td>1935-12-25 00:00:00.000</td>\n",
       "    </tr>\n",
       "    <tr>\n",
       "      <th>8</th>\n",
       "      <td>83</td>\n",
       "      <td>1936-01-10 02:00:00.000</td>\n",
       "    </tr>\n",
       "    <tr>\n",
       "      <th>9</th>\n",
       "      <td>83</td>\n",
       "      <td>1936-01-11 02:00:00.000</td>\n",
       "    </tr>\n",
       "  </tbody>\n",
       "</table>\n",
       "</div>"
      ],
      "text/plain": [
       "   edad          FechaNacimiento\n",
       "0    87  1932-02-03 02:00:00.000\n",
       "1    85  1934-09-21 02:00:00.000\n",
       "2    85  1934-09-29 02:00:00.000\n",
       "3    84  1935-02-24 02:00:00.000\n",
       "4    84  1935-07-17 02:00:00.000\n",
       "5    84  1935-08-20 02:00:00.000\n",
       "6    84  1935-10-24 00:00:00.000\n",
       "7    84  1935-12-25 00:00:00.000\n",
       "8    83  1936-01-10 02:00:00.000\n",
       "9    83  1936-01-11 02:00:00.000"
      ]
     },
     "execution_count": 59,
     "metadata": {},
     "output_type": "execute_result"
    }
   ],
   "source": [
    "# create age variable\n",
    "df['edad'] = pd.to_datetime('today').year - pd.to_datetime(df['FechaNacimiento']).dt.year\n",
    "df[['edad', 'FechaNacimiento']].head(10)"
   ]
  },
  {
   "cell_type": "code",
   "execution_count": 60,
   "metadata": {
    "colab": {},
    "colab_type": "code",
    "id": "I2UHveNOXr4M"
   },
   "outputs": [],
   "source": [
    "# drop birthdate variable\n",
    "df.drop(columns = ['FechaNacimiento', 'id_Cobis'], inplace = True)"
   ]
  },
  {
   "cell_type": "code",
   "execution_count": 61,
   "metadata": {
    "colab": {},
    "colab_type": "code",
    "id": "aWa8oa_7Xr4U"
   },
   "outputs": [],
   "source": [
    "# clean bcra variable\n",
    "df = df.loc[(df['sit_bcra'] != 11) & (df['sit_bcra'] != 6)]"
   ]
  },
  {
   "cell_type": "code",
   "execution_count": 62,
   "metadata": {
    "colab": {},
    "colab_type": "code",
    "id": "HoLeOl4nXr4c"
   },
   "outputs": [],
   "source": [
    "# choose latam countries\n",
    "df = df.loc[(df['pais_nacimiento'] == 'ARGENTINA') | (df['pais_nacimiento'] == 'PARAGUAY') | \n",
    "           (df['pais_nacimiento'] == 'CHILE') | (df['pais_nacimiento'] == 'PERU') |\n",
    "           (df['pais_nacimiento'] == 'BOLIVIA') | (df['pais_nacimiento'] == 'URUGUAY')]"
   ]
  },
  {
   "cell_type": "code",
   "execution_count": 63,
   "metadata": {},
   "outputs": [],
   "source": [
    "df = df.loc[df['SUM_CA_Pesos_SD_Primer_Dia_Mes'] > 0]"
   ]
  },
  {
   "cell_type": "code",
   "execution_count": 64,
   "metadata": {},
   "outputs": [],
   "source": [
    "df.drop(columns = ['Acciones', 'FCI_DOLAR', 'FCI_PESOS', 'Pf Bonos', 'CANTIDAD_CUOTAPARTISTA', 'CANTIDAD_COMITENTES'], inplace = True)"
   ]
  },
  {
   "cell_type": "code",
   "execution_count": 65,
   "metadata": {},
   "outputs": [],
   "source": [
    "df = df.loc[df['ingreso_anual'] > 0]\n",
    "df = df.loc[df['gasto_anual_tc'] > 0]"
   ]
  },
  {
   "cell_type": "code",
   "execution_count": 66,
   "metadata": {},
   "outputs": [],
   "source": [
    "df = df.loc[df['ingreso_anual'] < 150000000]"
   ]
  },
  {
   "cell_type": "code",
   "execution_count": 67,
   "metadata": {
    "colab": {},
    "colab_type": "code",
    "id": "G-E0fpEHXr4l"
   },
   "outputs": [
    {
     "data": {
      "text/plain": [
       "157383"
      ]
     },
     "execution_count": 67,
     "metadata": {},
     "output_type": "execute_result"
    }
   ],
   "source": [
    "# duplicates elimination\n",
    "df.drop_duplicates(inplace = True)\n",
    "len(df)"
   ]
  },
  {
   "cell_type": "code",
   "execution_count": 68,
   "metadata": {
    "colab": {},
    "colab_type": "code",
    "id": "hQb7SskjXr4w"
   },
   "outputs": [
    {
     "data": {
      "text/plain": [
       "129811"
      ]
     },
     "execution_count": 68,
     "metadata": {},
     "output_type": "execute_result"
    }
   ],
   "source": [
    "# NaNs elimination\n",
    "df.dropna(inplace = True)\n",
    "len(df)"
   ]
  },
  {
   "cell_type": "code",
   "execution_count": 69,
   "metadata": {
    "colab": {},
    "colab_type": "code",
    "id": "HovD9T5FXr46"
   },
   "outputs": [],
   "source": [
    "# random sample of 150K instances\n",
    "# df = df.sample(150000, random_state=16)"
   ]
  },
  {
   "cell_type": "code",
   "execution_count": 70,
   "metadata": {},
   "outputs": [],
   "source": [
    "df.rename(columns = {'Situacion_Vivienda':'situacion_vivienda'}, inplace = True)\n",
    "df.rename(columns = {'IDEstadoCivil':'estado_civil'}, inplace = True)"
   ]
  },
  {
   "cell_type": "markdown",
   "metadata": {},
   "source": [
    "### Data analysis"
   ]
  },
  {
   "cell_type": "code",
   "execution_count": 71,
   "metadata": {},
   "outputs": [],
   "source": [
    "import seaborn as sns"
   ]
  },
  {
   "cell_type": "code",
   "execution_count": 72,
   "metadata": {},
   "outputs": [
    {
     "data": {
      "image/png": "[encoded data removed]",
      "text/plain": [
       "<Figure size 720x432 with 1 Axes>"
      ]
     },
     "metadata": {
      "needs_background": "light"
     },
     "output_type": "display_data"
    }
   ],
   "source": [
    "plt.figure(figsize=(10,6))\n",
    "plt.title(\"Edad Frecuencia\")\n",
    "sns.axes_style(\"dark\")\n",
    "sns.violinplot(y=df[\"edad\"], x = df['IDSexo'])\n",
    "plt.xlabel('Sexo')\n",
    "plt.show()"
   ]
  },
  {
   "cell_type": "code",
   "execution_count": 73,
   "metadata": {},
   "outputs": [
    {
     "data": {
      "text/plain": [
       "129594"
      ]
     },
     "execution_count": 73,
     "metadata": {},
     "output_type": "execute_result"
    }
   ],
   "source": [
    "df.loc[np.abs(df['ingreso_anual']-df['ingreso_anual'].mean()) >=(3*df['ingreso_anual'].std()),'ingreso_anual']=np.nan\n",
    "df.dropna(inplace=True)\n",
    "len(df)"
   ]
  },
  {
   "cell_type": "code",
   "execution_count": 74,
   "metadata": {},
   "outputs": [
    {
     "data": {
      "text/plain": [
       "127316"
      ]
     },
     "execution_count": 74,
     "metadata": {},
     "output_type": "execute_result"
    }
   ],
   "source": [
    "df.loc[np.abs(df['gasto_anual_tc']-df['gasto_anual_tc'].mean()) >=(3*df['gasto_anual_tc'].std()),'gasto_anual_tc']=np.nan\n",
    "df.dropna(inplace=True)\n",
    "len(df)"
   ]
  },
  {
   "cell_type": "code",
   "execution_count": 75,
   "metadata": {
    "scrolled": false
   },
   "outputs": [
    {
     "data": {
      "image/png": "[encoded data removed]",
      "text/plain": [
       "<Figure size 1080x432 with 2 Axes>"
      ]
     },
     "metadata": {
      "needs_background": "light"
     },
     "output_type": "display_data"
    }
   ],
   "source": [
    "plt.figure(figsize=(15,6))\n",
    "plt.subplot(1,2,1)\n",
    "sns.boxplot(y=df['ingreso_anual'], color=\"red\")\n",
    "plt.subplot(1,2,2)\n",
    "sns.boxplot(y=df['gasto_anual_tc'])\n",
    "plt.show()"
   ]
  },
  {
   "cell_type": "code",
   "execution_count": 76,
   "metadata": {},
   "outputs": [
    {
     "data": {
      "text/plain": [
       "Text(0.5, 0, 'Ingreso reportado / Gasto tarjeta de crédito')"
      ]
     },
     "execution_count": 76,
     "metadata": {},
     "output_type": "execute_result"
    },
    {
     "data": {
      "image/png": "[encoded data removed]",
      "text/plain": [
       "<Figure size 432x288 with 1 Axes>"
      ]
     },
     "metadata": {
      "needs_background": "light"
     },
     "output_type": "display_data"
    }
   ],
   "source": [
    "plot_income = sns.distplot(df['ingreso_anual'])\n",
    "plot_spend = sns.distplot(df['gasto_anual_tc'])\n",
    "plt.xlabel('Ingreso reportado / Gasto tarjeta de crédito')"
   ]
  },
  {
   "cell_type": "code",
   "execution_count": 77,
   "metadata": {},
   "outputs": [
    {
     "data": {
      "image/png": "[encoded data removed]",
      "text/plain": [
       "<Figure size 1080x432 with 1 Axes>"
      ]
     },
     "metadata": {
      "needs_background": "light"
     },
     "output_type": "display_data"
    }
   ],
   "source": [
    "edad18_25 = df.edad[(df.edad <= 25) & (df.edad >= 18)]\n",
    "edad26_35 = df.edad[(df.edad <= 35) & (df.edad >= 26)]\n",
    "edad36_45 = df.edad[(df.edad <= 45) & (df.edad >= 36)]\n",
    "edad46_55 = df.edad[(df.edad <= 55) & (df.edad >= 46)]\n",
    "edad55mas = df.edad[df.edad >= 56]\n",
    "\n",
    "x = [\"18-25\",\"26-35\",\"36-45\",\"46-55\",\"55+\"]\n",
    "y = [len(edad18_25.values),len(edad26_35.values),len(edad36_45.values),len(edad46_55.values),len(edad55mas.values)]\n",
    "\n",
    "plt.figure(figsize=(15,6))\n",
    "sns.barplot(x=x, y=y, palette=\"rocket\")\n",
    "plt.title(\"Número de clientes y edades\")\n",
    "plt.xlabel(\"Edad\")\n",
    "plt.ylabel(\"Número de Clientes\")\n",
    "plt.show()"
   ]
  },
  {
   "cell_type": "code",
   "execution_count": 78,
   "metadata": {},
   "outputs": [
    {
     "data": {
      "text/plain": [
       "dtype('float64')"
      ]
     },
     "execution_count": 78,
     "metadata": {},
     "output_type": "execute_result"
    }
   ],
   "source": [
    "df['gasto_anual_tc'].dtype"
   ]
  },
  {
   "cell_type": "markdown",
   "metadata": {},
   "source": [
    "### Modelo ingreso - gasto"
   ]
  },
  {
   "cell_type": "code",
   "execution_count": 79,
   "metadata": {},
   "outputs": [],
   "source": [
    "scaler = StandardScaler()\n",
    "df_scaled = df[['ingreso_anual', 'gasto_anual_tc']]"
   ]
  },
  {
   "cell_type": "code",
   "execution_count": 80,
   "metadata": {},
   "outputs": [],
   "source": [
    "df_scaled = scaler.fit_transform(df_scaled)"
   ]
  },
  {
   "cell_type": "markdown",
   "metadata": {},
   "source": [
    "**Within Cluster Sum Of Squares (WCSS)**"
   ]
  },
  {
   "cell_type": "code",
   "execution_count": 81,
   "metadata": {},
   "outputs": [
    {
     "data": {
      "image/png": "[encoded data removed]",
      "text/plain": [
       "<Figure size 864x432 with 1 Axes>"
      ]
     },
     "metadata": {
      "needs_background": "light"
     },
     "output_type": "display_data"
    }
   ],
   "source": [
    "from sklearn.cluster import KMeans\n",
    "wcss = []\n",
    "for k in range(1,11):\n",
    "    kmeans = KMeans(n_clusters=k, init=\"k-means++\")\n",
    "    kmeans.fit(df_scaled)\n",
    "    wcss.append(kmeans.inertia_)\n",
    "plt.figure(figsize=(12,6))    \n",
    "plt.grid()\n",
    "plt.plot(range(1,11),wcss, linewidth=2, color=\"red\", marker =\"8\")\n",
    "plt.xlabel(\"K Value\")\n",
    "plt.xticks(np.arange(1,11,1))\n",
    "plt.ylabel(\"WCSS\")\n",
    "plt.show()"
   ]
  },
  {
   "cell_type": "code",
   "execution_count": 82,
   "metadata": {},
   "outputs": [],
   "source": [
    "#Model Build\n",
    "kmeansmodel = KMeans(n_clusters= 4, init='k-means++', random_state=0)\n",
    "y_kmeans = kmeansmodel.fit_predict(df_scaled)"
   ]
  },
  {
   "cell_type": "code",
   "execution_count": 83,
   "metadata": {},
   "outputs": [
    {
     "data": {
      "text/plain": [
       "array([3, 1, 1, ..., 1, 2, 0])"
      ]
     },
     "execution_count": 83,
     "metadata": {},
     "output_type": "execute_result"
    }
   ],
   "source": [
    "y_kmeans"
   ]
  },
  {
   "cell_type": "code",
   "execution_count": 84,
   "metadata": {},
   "outputs": [
    {
     "data": {
      "text/plain": [
       "array([[-0.14859133,  0.36569955],\n",
       "       [-0.33613503, -0.7447301 ],\n",
       "       [ 0.21852108,  2.05668094],\n",
       "       [ 2.66645687,  0.36440596]])"
      ]
     },
     "execution_count": 84,
     "metadata": {},
     "output_type": "execute_result"
    }
   ],
   "source": [
    "kmeansmodel.cluster_centers_"
   ]
  },
  {
   "cell_type": "code",
   "execution_count": 85,
   "metadata": {},
   "outputs": [
    {
     "data": {
      "image/png": "[encoded data removed]",
      "text/plain": [
       "<Figure size 432x288 with 1 Axes>"
      ]
     },
     "metadata": {
      "needs_background": "light"
     },
     "output_type": "display_data"
    }
   ],
   "source": [
    "#Visualizing all the clusters \n",
    "\n",
    "plt.scatter(df_scaled[y_kmeans == 0, 0], df_scaled[y_kmeans == 0, 1], s = 100, c = 'red', label = 'Cluster 1', alpha = 0.5)\n",
    "plt.scatter(df_scaled[y_kmeans == 1, 0], df_scaled[y_kmeans == 1, 1], s = 100, c = 'blue', label = 'Cluster 2', alpha = 0.5)\n",
    "plt.scatter(df_scaled[y_kmeans == 2, 0], df_scaled[y_kmeans == 2, 1], s = 100, c = 'green', label = 'Cluster 3', alpha = 0.5)\n",
    "plt.scatter(df_scaled[y_kmeans == 3, 0], df_scaled[y_kmeans == 3, 1], s = 100, c = 'cyan', label = 'Cluster 4', alpha = 0.5)\n",
    "plt.scatter(kmeansmodel.cluster_centers_[:, 0], kmeansmodel.cluster_centers_[:, 1], s = 300, c = 'yellow', label = 'Centroides',\n",
    "            marker = '^', alpha = 0.9)\n",
    "plt.title('Clusters de clientes')\n",
    "plt.xlabel('Ingreso Anual')\n",
    "plt.ylabel('Gasto Anual')\n",
    "plt.legend(loc = 'best')\n",
    "plt.show()"
   ]
  },
  {
   "cell_type": "code",
   "execution_count": 86,
   "metadata": {},
   "outputs": [],
   "source": [
    "labels = kmeansmodel.labels_\n",
    "centroids = kmeansmodel.cluster_centers_"
   ]
  },
  {
   "cell_type": "code",
   "execution_count": 87,
   "metadata": {},
   "outputs": [
    {
     "data": {
      "text/plain": [
       "0.3741720128834727"
      ]
     },
     "execution_count": 87,
     "metadata": {},
     "output_type": "execute_result"
    }
   ],
   "source": [
    "import sklearn.metrics as sm\n",
    "sm.silhouette_score(df_scaled, labels, metric='euclidean')"
   ]
  },
  {
   "cell_type": "code",
   "execution_count": 88,
   "metadata": {},
   "outputs": [
    {
     "data": {
      "text/plain": [
       "87505.27389316414"
      ]
     },
     "execution_count": 88,
     "metadata": {},
     "output_type": "execute_result"
    }
   ],
   "source": [
    "sm.calinski_harabasz_score(df_scaled, labels)"
   ]
  },
  {
   "cell_type": "code",
   "execution_count": 89,
   "metadata": {},
   "outputs": [
    {
     "name": "stdout",
     "output_type": "stream",
     "text": [
      "K=  [(2, 0.48793869095580766, 81355.0116627578)]\n",
      "K=  [(3, 0.47051756263284117, 92316.03438866322)]\n",
      "K=  [(4, 0.3741720128834727, 87505.27389316414)]\n",
      "K=  [(5, 0.399110571160555, 92858.44474585698)]\n",
      "K=  [(6, 0.3716484956527684, 89601.56950194026)]\n",
      "K=  [(7, 0.3531630781542863, 89390.79738914786)]\n",
      "K=  [(8, 0.35237531715065296, 90528.90537577623)]\n"
     ]
    }
   ],
   "source": [
    "from sklearn import cluster\n",
    "evaluation = []\n",
    "for k in range(2,9):\n",
    "    \n",
    "    #Como siempre, suele ser una buena práctica fijar la semilla\n",
    "    kmeans = cluster.KMeans(n_clusters=k, random_state=0) \n",
    "    kmeans.fit(df_scaled)\n",
    "    labels = kmeans.labels_\n",
    "    centroids = kmeans.cluster_centers_\n",
    "    silhouette = sm.silhouette_score(df_scaled, labels, metric='euclidean')\n",
    "    calinsky = sm.calinski_harabasz_score(df_scaled, labels)      \n",
    "    evaluation = [(k, silhouette, calinsky)]\n",
    "    print(\"K= \", evaluation)"
   ]
  },
  {
   "cell_type": "markdown",
   "metadata": {},
   "source": [
    "### Modelo edad - gasto "
   ]
  },
  {
   "cell_type": "code",
   "execution_count": 90,
   "metadata": {},
   "outputs": [],
   "source": [
    "scaler = StandardScaler()\n",
    "df_scaled = df[['edad', 'gasto_anual_tc']]"
   ]
  },
  {
   "cell_type": "code",
   "execution_count": 91,
   "metadata": {},
   "outputs": [],
   "source": [
    "df_scaled = scaler.fit_transform(df_scaled)"
   ]
  },
  {
   "cell_type": "code",
   "execution_count": 92,
   "metadata": {},
   "outputs": [
    {
     "data": {
      "image/png": "[encoded data removed]",
      "text/plain": [
       "<Figure size 864x432 with 1 Axes>"
      ]
     },
     "metadata": {
      "needs_background": "light"
     },
     "output_type": "display_data"
    }
   ],
   "source": [
    "from sklearn.cluster import KMeans\n",
    "wcss = []\n",
    "for k in range(1,11):\n",
    "    kmeans = KMeans(n_clusters=k, init=\"k-means++\")\n",
    "    kmeans.fit(df_scaled)\n",
    "    wcss.append(kmeans.inertia_)\n",
    "plt.figure(figsize=(12,6))    \n",
    "plt.grid()\n",
    "plt.plot(range(1,11),wcss, linewidth=2, color=\"red\", marker =\"8\")\n",
    "plt.xlabel(\"K Value\")\n",
    "plt.xticks(np.arange(1,11,1))\n",
    "plt.ylabel(\"WCSS\")\n",
    "plt.show()"
   ]
  },
  {
   "cell_type": "code",
   "execution_count": 93,
   "metadata": {},
   "outputs": [],
   "source": [
    "#Model Build\n",
    "kmeansmodel = KMeans(n_clusters= 3, init='k-means++', random_state=0)\n",
    "y_kmeans = kmeansmodel.fit_predict(df_scaled)"
   ]
  },
  {
   "cell_type": "code",
   "execution_count": 94,
   "metadata": {},
   "outputs": [
    {
     "data": {
      "text/plain": [
       "array([2, 2, 2, ..., 0, 1, 0])"
      ]
     },
     "execution_count": 94,
     "metadata": {},
     "output_type": "execute_result"
    }
   ],
   "source": [
    "y_kmeans"
   ]
  },
  {
   "cell_type": "code",
   "execution_count": 95,
   "metadata": {},
   "outputs": [
    {
     "data": {
      "text/plain": [
       "array([[-0.73047484, -0.46340179],\n",
       "       [ 0.0598968 ,  1.58192309],\n",
       "       [ 1.11290557, -0.28327588]])"
      ]
     },
     "execution_count": 95,
     "metadata": {},
     "output_type": "execute_result"
    }
   ],
   "source": [
    "kmeansmodel.cluster_centers_"
   ]
  },
  {
   "cell_type": "code",
   "execution_count": 96,
   "metadata": {},
   "outputs": [
    {
     "data": {
      "image/png": "[encoded data removed]",
      "text/plain": [
       "<Figure size 432x288 with 1 Axes>"
      ]
     },
     "metadata": {
      "needs_background": "light"
     },
     "output_type": "display_data"
    }
   ],
   "source": [
    "#Visualizing all the clusters \n",
    "\n",
    "plt.scatter(df_scaled[y_kmeans == 0, 0], df_scaled[y_kmeans == 0, 1], s = 100, c = 'red', label = 'Cluster 1', alpha = 0.5)\n",
    "plt.scatter(df_scaled[y_kmeans == 1, 0], df_scaled[y_kmeans == 1, 1], s = 100, c = 'blue', label = 'Cluster 2', alpha = 0.5)\n",
    "plt.scatter(df_scaled[y_kmeans == 2, 0], df_scaled[y_kmeans == 2, 1], s = 100, c = 'green', label = 'Cluster 3', alpha = 0.5)\n",
    "plt.scatter(df_scaled[y_kmeans == 3, 0], df_scaled[y_kmeans == 3, 1], s = 100, c = 'cyan', label = 'Cluster 4', alpha = 0.5)\n",
    "plt.scatter(kmeansmodel.cluster_centers_[:, 0], kmeansmodel.cluster_centers_[:, 1], s = 300, c = 'yellow', label = 'Centroides',\n",
    "            marker = '^', alpha = 0.9)\n",
    "plt.title('Clusters de clientes')\n",
    "plt.xlabel('Edad')\n",
    "plt.ylabel('Gasto Anual')\n",
    "plt.legend(loc = 'best')\n",
    "plt.show()"
   ]
  },
  {
   "cell_type": "code",
   "execution_count": 97,
   "metadata": {},
   "outputs": [],
   "source": [
    "labels = kmeansmodel.labels_\n",
    "centroids = kmeansmodel.cluster_centers_"
   ]
  },
  {
   "cell_type": "code",
   "execution_count": 98,
   "metadata": {},
   "outputs": [
    {
     "data": {
      "text/plain": [
       "0.4329248312414715"
      ]
     },
     "execution_count": 98,
     "metadata": {},
     "output_type": "execute_result"
    }
   ],
   "source": [
    "import sklearn.metrics as sm\n",
    "sm.silhouette_score(df_scaled, labels, metric='euclidean')"
   ]
  },
  {
   "cell_type": "code",
   "execution_count": 99,
   "metadata": {},
   "outputs": [
    {
     "data": {
      "text/plain": [
       "112141.17825088232"
      ]
     },
     "execution_count": 99,
     "metadata": {},
     "output_type": "execute_result"
    }
   ],
   "source": [
    "sm.calinski_harabasz_score(df_scaled, labels)"
   ]
  },
  {
   "cell_type": "code",
   "execution_count": 100,
   "metadata": {},
   "outputs": [
    {
     "name": "stdout",
     "output_type": "stream",
     "text": [
      "K=  [(2, 0.3811789300012075, 78542.57241341966)]\n",
      "K=  [(3, 0.4329248312414715, 112141.17825088232)]\n",
      "K=  [(4, 0.38573544103447294, 104735.5576822736)]\n",
      "K=  [(5, 0.3545461302475396, 102432.41471206969)]\n",
      "K=  [(6, 0.366236723380443, 106665.20512776698)]\n",
      "K=  [(7, 0.35077012173683, 102882.39982097749)]\n",
      "K=  [(8, 0.3528404009245065, 103148.77212773706)]\n"
     ]
    }
   ],
   "source": [
    "from sklearn import cluster\n",
    "evaluation = []\n",
    "for k in range(2,9):\n",
    "    \n",
    "    #Como siempre, suele ser una buena práctica fijar la semilla\n",
    "    kmeans = cluster.KMeans(n_clusters=k, random_state=0) \n",
    "    kmeans.fit(df_scaled)\n",
    "    labels = kmeans.labels_\n",
    "    centroids = kmeans.cluster_centers_\n",
    "    silhouette = sm.silhouette_score(df_scaled, labels, metric='euclidean')\n",
    "    calinsky = sm.calinski_harabasz_score(df_scaled, labels)      \n",
    "    evaluation = [(k, silhouette, calinsky)]\n",
    "    print(\"K= \", evaluation)"
   ]
  },
  {
   "cell_type": "markdown",
   "metadata": {},
   "source": [
    "### Clustering jerárquico"
   ]
  },
  {
   "cell_type": "code",
   "execution_count": 33,
   "metadata": {},
   "outputs": [],
   "source": [
    "from scipy.cluster.hierarchy import dendrogram, linkage, cophenet, fcluster\n",
    "from scipy.spatial.distance import pdist"
   ]
  },
  {
   "cell_type": "code",
   "execution_count": 34,
   "metadata": {},
   "outputs": [],
   "source": [
    "scaler = StandardScaler()\n",
    "df_scaled = df[['gasto_anual_tc', 'ingreso_anual']]"
   ]
  },
  {
   "cell_type": "code",
   "execution_count": 35,
   "metadata": {},
   "outputs": [],
   "source": [
    "df_scaled = scaler.fit_transform(df_scaled)"
   ]
  },
  {
   "cell_type": "code",
   "execution_count": 36,
   "metadata": {
    "scrolled": true
   },
   "outputs": [],
   "source": [
    "df_scaled = pd.DataFrame(df_scaled).sample(10000)"
   ]
  },
  {
   "cell_type": "code",
   "execution_count": 37,
   "metadata": {},
   "outputs": [
    {
     "data": {
      "text/plain": [
       "(10000, 2)"
      ]
     },
     "execution_count": 37,
     "metadata": {},
     "output_type": "execute_result"
    }
   ],
   "source": [
    "df_scaled.shape"
   ]
  },
  {
   "cell_type": "code",
   "execution_count": 38,
   "metadata": {},
   "outputs": [],
   "source": [
    "# creación de clusters\n",
    "Z = linkage(df_scaled, method = 'complete')"
   ]
  },
  {
   "cell_type": "code",
   "execution_count": 39,
   "metadata": {},
   "outputs": [
    {
     "data": {
      "text/plain": [
       "array([0.33363804, 4.25265636, 3.22611743, ..., 0.89649413, 0.20479979,\n",
       "       0.6953137 ])"
      ]
     },
     "execution_count": 39,
     "metadata": {},
     "output_type": "execute_result"
    }
   ],
   "source": [
    "# Calculamos las distancias con la función pdist(X) que importamos de scipy:\n",
    "\n",
    "pdist(df_scaled)"
   ]
  },
  {
   "cell_type": "code",
   "execution_count": 40,
   "metadata": {},
   "outputs": [
    {
     "data": {
      "text/plain": [
       "(49995000,)"
      ]
     },
     "execution_count": 40,
     "metadata": {},
     "output_type": "execute_result"
    }
   ],
   "source": [
    "pdist(df_scaled).shape"
   ]
  },
  {
   "cell_type": "code",
   "execution_count": 41,
   "metadata": {},
   "outputs": [
    {
     "data": {
      "text/plain": [
       "0.723208380320122"
      ]
     },
     "execution_count": 41,
     "metadata": {},
     "output_type": "execute_result"
    }
   ],
   "source": [
    "# Coeficiente cophenético\n",
    "c, coph_dists = cophenet(Z, pdist(df_scaled))\n",
    "c"
   ]
  },
  {
   "cell_type": "code",
   "execution_count": 42,
   "metadata": {},
   "outputs": [
    {
     "data": {
      "image/png": "[encoded data removed]",
      "text/plain": [
       "<Figure size 504x504 with 1 Axes>"
      ]
     },
     "metadata": {
      "needs_background": "light"
     },
     "output_type": "display_data"
    }
   ],
   "source": [
    "# Dendograma\n",
    "plt.figure(figsize=[7,7])\n",
    "plt.title('Dendrogram')\n",
    "plt.xlabel('Index Numbers')\n",
    "plt.ylabel('Distance')\n",
    "dendrogram(\n",
    "    Z,\n",
    "    leaf_rotation=90.,  \n",
    "    leaf_font_size=5.\n",
    ")\n",
    "plt.show()"
   ]
  },
  {
   "cell_type": "markdown",
   "metadata": {},
   "source": [
    "#### Evaluando métodos de clustering"
   ]
  },
  {
   "cell_type": "code",
   "execution_count": 43,
   "metadata": {},
   "outputs": [],
   "source": [
    "def eval_clusters_linkage(df_scaled, link_method):\n",
    "    L = linkage(df_scaled, link_method)\n",
    "    c, coph_dists = cophenet(L, pdist(df_scaled))\n",
    "    print(link_method, c)\n",
    "    plt.figure(figsize=[6,6])\n",
    "    plt.title('Dendrogram - Method: ' + link_method.title())\n",
    "    plt.xlabel('Index Numbers')\n",
    "    plt.ylabel('Distance')\n",
    "    dendrogram(L, leaf_rotation=90., leaf_font_size=5.)"
   ]
  },
  {
   "cell_type": "code",
   "execution_count": 44,
   "metadata": {},
   "outputs": [
    {
     "name": "stdout",
     "output_type": "stream",
     "text": [
      "ward 0.5165548633042142\n",
      "single 0.805445793166069\n",
      "average 0.8275505555518657\n",
      "complete 0.723208380320122\n"
     ]
    },
    {
     "data": {
      "image/png": "[encoded data removed]",
      "text/plain": [
       "<Figure size 432x432 with 1 Axes>"
      ]
     },
     "metadata": {
      "needs_background": "light"
     },
     "output_type": "display_data"
    },
    {
     "data": {
      "image/png": "[encoded data removed]",
      "text/plain": [
       "<Figure size 432x432 with 1 Axes>"
      ]
     },
     "metadata": {
      "needs_background": "light"
     },
     "output_type": "display_data"
    },
    {
     "data": {
      "image/png": "[encoded data removed]",
      "text/plain": [
       "<Figure size 432x432 with 1 Axes>"
      ]
     },
     "metadata": {
      "needs_background": "light"
     },
     "output_type": "display_data"
    },
    {
     "data": {
      "image/png": "[encoded data removed]",
      "text/plain": [
       "<Figure size 432x432 with 1 Axes>"
      ]
     },
     "metadata": {
      "needs_background": "light"
     },
     "output_type": "display_data"
    }
   ],
   "source": [
    "for i in ['ward','single','average','complete']:\n",
    "    eval_clusters_linkage(df_scaled, i)"
   ]
  },
  {
   "cell_type": "markdown",
   "metadata": {},
   "source": [
    "### PCA"
   ]
  },
  {
   "cell_type": "code",
   "execution_count": null,
   "metadata": {},
   "outputs": [],
   "source": [
    "df_PCA = df.copy()\n",
    "df_PCA = df.loc[:, ['vb_antiguedad_tc', 'vb_actividad_tc','SUM_CA_Pesos_SD_Promedio_Mensual'\n",
    "                    , 'TC_limite_Compra', 'ea_perfil_patrimonial', 'monto_pf_pesos',\n",
    "                   'monto_pf_dolar']]\n",
    "df_PCA = df_PCA.reset_index(drop=True)\n",
    "df_PCA.info()"
   ]
  },
  {
   "cell_type": "code",
   "execution_count": null,
   "metadata": {},
   "outputs": [],
   "source": [
    "from sklearn.preprocessing import PolynomialFeatures, StandardScaler\n",
    "scaler = StandardScaler()\n",
    "scaler.fit(df_PCA)\n",
    "df_PCA = scaler.transform(df_PCA)\n",
    "df_PCA = pd.DataFrame(df_PCA, columns=['vb_antiguedad_tc', 'vb_actividad_tc','SUM_CA_Pesos_SD_Promedio_Mensual'\n",
    "                    , 'TC_limite_Compra', 'ea_perfil_patrimonial', 'monto_pf_pesos',\n",
    "                   'monto_pf_dolar'])\n",
    "df_PCA.head()"
   ]
  },
  {
   "cell_type": "code",
   "execution_count": null,
   "metadata": {},
   "outputs": [],
   "source": [
    "# Observamos la media de las variables:\n",
    "print(\"Media de las variables: \")\n",
    "print(df_PCA.mean(axis=0))\n",
    "\n",
    "print('\\n')\n",
    "\n",
    "# Observamos la varianza de las variables:\n",
    "print(\"Varianza de las variables: \")\n",
    "print(df_PCA.var(axis=0))"
   ]
  },
  {
   "cell_type": "code",
   "execution_count": 27,
   "metadata": {},
   "outputs": [
    {
     "data": {
      "text/plain": [
       "PCA(copy=True, iterated_power='auto', n_components=None, random_state=None,\n",
       "    svd_solver='auto', tol=0.0, whiten=False)"
      ]
     },
     "execution_count": 27,
     "metadata": {},
     "output_type": "execute_result"
    }
   ],
   "source": [
    "from sklearn.decomposition import PCA\n",
    "PCA = PCA()\n",
    "PCA.fit(df_PCA)"
   ]
  },
  {
   "cell_type": "code",
   "execution_count": 28,
   "metadata": {},
   "outputs": [
    {
     "name": "stdout",
     "output_type": "stream",
     "text": [
      "[[ 4.39456759e-01 -1.51988191e-01  4.93586772e-01  5.39087491e-01\n",
      "   2.12434034e-02  4.65179174e-01  1.80807013e-01]\n",
      " [-5.47627947e-01  3.61657253e-01  4.53495671e-01 -3.30935152e-01\n",
      "  -3.41366237e-02  4.73788419e-01  1.68791259e-01]\n",
      " [-1.29952481e-02  1.52638714e-01  8.03124091e-04  4.24629946e-02\n",
      "   9.86242558e-01 -1.65516038e-02 -4.21954653e-02]\n",
      " [-3.12116624e-02 -2.83995723e-01 -1.80443051e-01 -1.42991548e-01\n",
      "   8.81961645e-02 -6.90992983e-02  9.23478591e-01]\n",
      " [-1.30292210e-01 -8.32506832e-01  1.35477759e-01 -3.52314598e-01\n",
      "   1.33698252e-01  2.20211285e-01 -2.84795160e-01]\n",
      " [ 4.40534384e-01  1.79778218e-01 -5.07690406e-01 -3.63791459e-01\n",
      "   2.74494277e-03  6.18027341e-01 -3.93718838e-02]\n",
      " [ 5.42947273e-01  1.29474478e-01  4.91985430e-01 -5.66698431e-01\n",
      "   6.90691081e-03 -3.51615411e-01  3.95820867e-02]]\n"
     ]
    }
   ],
   "source": [
    "print(PCA.components_)"
   ]
  },
  {
   "cell_type": "code",
   "execution_count": 29,
   "metadata": {},
   "outputs": [
    {
     "data": {
      "text/html": [
       "<div>\n",
       "<style scoped>\n",
       "    .dataframe tbody tr th:only-of-type {\n",
       "        vertical-align: middle;\n",
       "    }\n",
       "\n",
       "    .dataframe tbody tr th {\n",
       "        vertical-align: top;\n",
       "    }\n",
       "\n",
       "    .dataframe thead th {\n",
       "        text-align: right;\n",
       "    }\n",
       "</style>\n",
       "<table border=\"1\" class=\"dataframe\">\n",
       "  <thead>\n",
       "    <tr style=\"text-align: right;\">\n",
       "      <th></th>\n",
       "      <th>PC1</th>\n",
       "      <th>PC2</th>\n",
       "      <th>PC3</th>\n",
       "      <th>PC4</th>\n",
       "      <th>PC5</th>\n",
       "      <th>PC6</th>\n",
       "      <th>PC7</th>\n",
       "    </tr>\n",
       "  </thead>\n",
       "  <tbody>\n",
       "    <tr>\n",
       "      <th>vb_antiguedad_tc</th>\n",
       "      <td>0.439457</td>\n",
       "      <td>-0.547628</td>\n",
       "      <td>-0.012995</td>\n",
       "      <td>-0.031212</td>\n",
       "      <td>-0.130292</td>\n",
       "      <td>0.440534</td>\n",
       "      <td>0.542947</td>\n",
       "    </tr>\n",
       "    <tr>\n",
       "      <th>vb_actividad_tc</th>\n",
       "      <td>-0.151988</td>\n",
       "      <td>0.361657</td>\n",
       "      <td>0.152639</td>\n",
       "      <td>-0.283996</td>\n",
       "      <td>-0.832507</td>\n",
       "      <td>0.179778</td>\n",
       "      <td>0.129474</td>\n",
       "    </tr>\n",
       "    <tr>\n",
       "      <th>SUM_CA_Pesos_SD_Promedio_Mensual</th>\n",
       "      <td>0.493587</td>\n",
       "      <td>0.453496</td>\n",
       "      <td>0.000803</td>\n",
       "      <td>-0.180443</td>\n",
       "      <td>0.135478</td>\n",
       "      <td>-0.507690</td>\n",
       "      <td>0.491985</td>\n",
       "    </tr>\n",
       "    <tr>\n",
       "      <th>TC_limite_Compra</th>\n",
       "      <td>0.539087</td>\n",
       "      <td>-0.330935</td>\n",
       "      <td>0.042463</td>\n",
       "      <td>-0.142992</td>\n",
       "      <td>-0.352315</td>\n",
       "      <td>-0.363791</td>\n",
       "      <td>-0.566698</td>\n",
       "    </tr>\n",
       "    <tr>\n",
       "      <th>ea_perfil_patrimonial</th>\n",
       "      <td>0.021243</td>\n",
       "      <td>-0.034137</td>\n",
       "      <td>0.986243</td>\n",
       "      <td>0.088196</td>\n",
       "      <td>0.133698</td>\n",
       "      <td>0.002745</td>\n",
       "      <td>0.006907</td>\n",
       "    </tr>\n",
       "    <tr>\n",
       "      <th>monto_pf_pesos</th>\n",
       "      <td>0.465179</td>\n",
       "      <td>0.473788</td>\n",
       "      <td>-0.016552</td>\n",
       "      <td>-0.069099</td>\n",
       "      <td>0.220211</td>\n",
       "      <td>0.618027</td>\n",
       "      <td>-0.351615</td>\n",
       "    </tr>\n",
       "    <tr>\n",
       "      <th>monto_pf_dolar</th>\n",
       "      <td>0.180807</td>\n",
       "      <td>0.168791</td>\n",
       "      <td>-0.042195</td>\n",
       "      <td>0.923479</td>\n",
       "      <td>-0.284795</td>\n",
       "      <td>-0.039372</td>\n",
       "      <td>0.039582</td>\n",
       "    </tr>\n",
       "  </tbody>\n",
       "</table>\n",
       "</div>"
      ],
      "text/plain": [
       "                                       PC1       PC2       PC3       PC4  \\\n",
       "vb_antiguedad_tc                  0.439457 -0.547628 -0.012995 -0.031212   \n",
       "vb_actividad_tc                  -0.151988  0.361657  0.152639 -0.283996   \n",
       "SUM_CA_Pesos_SD_Promedio_Mensual  0.493587  0.453496  0.000803 -0.180443   \n",
       "TC_limite_Compra                  0.539087 -0.330935  0.042463 -0.142992   \n",
       "ea_perfil_patrimonial             0.021243 -0.034137  0.986243  0.088196   \n",
       "monto_pf_pesos                    0.465179  0.473788 -0.016552 -0.069099   \n",
       "monto_pf_dolar                    0.180807  0.168791 -0.042195  0.923479   \n",
       "\n",
       "                                       PC5       PC6       PC7  \n",
       "vb_antiguedad_tc                 -0.130292  0.440534  0.542947  \n",
       "vb_actividad_tc                  -0.832507  0.179778  0.129474  \n",
       "SUM_CA_Pesos_SD_Promedio_Mensual  0.135478 -0.507690  0.491985  \n",
       "TC_limite_Compra                 -0.352315 -0.363791 -0.566698  \n",
       "ea_perfil_patrimonial             0.133698  0.002745  0.006907  \n",
       "monto_pf_pesos                    0.220211  0.618027 -0.351615  \n",
       "monto_pf_dolar                   -0.284795 -0.039372  0.039582  "
      ]
     },
     "execution_count": 29,
     "metadata": {},
     "output_type": "execute_result"
    }
   ],
   "source": [
    "PCA_loadings = pd.DataFrame(PCA.components_.T, index=df_PCA.columns,\\\n",
    "                            columns=['PC1', 'PC2','PC3', 'PC4','PC5', 'PC6', 'PC7'])\n",
    "PCA_loadings"
   ]
  },
  {
   "cell_type": "code",
   "execution_count": 30,
   "metadata": {},
   "outputs": [
    {
     "name": "stdout",
     "output_type": "stream",
     "text": [
      "[1.36343614 1.19989211 1.00030659 0.98322802 0.96965471 0.77507283\n",
      " 0.70845626]\n",
      "[0.19477529 0.17141202 0.14289999 0.14046021 0.13852118 0.11072395\n",
      " 0.10120736]\n"
     ]
    }
   ],
   "source": [
    "print(PCA.explained_variance_)\n",
    "print(PCA.explained_variance_ratio_)"
   ]
  },
  {
   "cell_type": "code",
   "execution_count": 31,
   "metadata": {},
   "outputs": [
    {
     "data": {
      "text/html": [
       "<div>\n",
       "<style scoped>\n",
       "    .dataframe tbody tr th:only-of-type {\n",
       "        vertical-align: middle;\n",
       "    }\n",
       "\n",
       "    .dataframe tbody tr th {\n",
       "        vertical-align: top;\n",
       "    }\n",
       "\n",
       "    .dataframe thead th {\n",
       "        text-align: right;\n",
       "    }\n",
       "</style>\n",
       "<table border=\"1\" class=\"dataframe\">\n",
       "  <thead>\n",
       "    <tr style=\"text-align: right;\">\n",
       "      <th></th>\n",
       "      <th>PC1</th>\n",
       "      <th>PC2</th>\n",
       "      <th>PC3</th>\n",
       "      <th>PC4</th>\n",
       "      <th>PC5</th>\n",
       "      <th>PC6</th>\n",
       "      <th>PC7</th>\n",
       "    </tr>\n",
       "  </thead>\n",
       "  <tbody>\n",
       "    <tr>\n",
       "      <th>0</th>\n",
       "      <td>-0.695835</td>\n",
       "      <td>0.305105</td>\n",
       "      <td>-0.035659</td>\n",
       "      <td>0.145804</td>\n",
       "      <td>0.313334</td>\n",
       "      <td>0.185126</td>\n",
       "      <td>0.204440</td>\n",
       "    </tr>\n",
       "    <tr>\n",
       "      <th>1</th>\n",
       "      <td>-0.934921</td>\n",
       "      <td>1.422579</td>\n",
       "      <td>-0.021687</td>\n",
       "      <td>0.071560</td>\n",
       "      <td>0.628609</td>\n",
       "      <td>-0.669405</td>\n",
       "      <td>-0.303228</td>\n",
       "    </tr>\n",
       "    <tr>\n",
       "      <th>2</th>\n",
       "      <td>1.373715</td>\n",
       "      <td>-1.833408</td>\n",
       "      <td>-0.025292</td>\n",
       "      <td>-0.127680</td>\n",
       "      <td>-0.520647</td>\n",
       "      <td>1.062698</td>\n",
       "      <td>1.134281</td>\n",
       "    </tr>\n",
       "    <tr>\n",
       "      <th>3</th>\n",
       "      <td>-0.345949</td>\n",
       "      <td>-0.022361</td>\n",
       "      <td>-0.028398</td>\n",
       "      <td>0.092098</td>\n",
       "      <td>0.162604</td>\n",
       "      <td>0.233577</td>\n",
       "      <td>0.227056</td>\n",
       "    </tr>\n",
       "    <tr>\n",
       "      <th>4</th>\n",
       "      <td>0.290824</td>\n",
       "      <td>-0.356158</td>\n",
       "      <td>0.030515</td>\n",
       "      <td>-0.092028</td>\n",
       "      <td>-0.274871</td>\n",
       "      <td>-0.325332</td>\n",
       "      <td>-0.603242</td>\n",
       "    </tr>\n",
       "  </tbody>\n",
       "</table>\n",
       "</div>"
      ],
      "text/plain": [
       "        PC1       PC2       PC3       PC4       PC5       PC6       PC7\n",
       "0 -0.695835  0.305105 -0.035659  0.145804  0.313334  0.185126  0.204440\n",
       "1 -0.934921  1.422579 -0.021687  0.071560  0.628609 -0.669405 -0.303228\n",
       "2  1.373715 -1.833408 -0.025292 -0.127680 -0.520647  1.062698  1.134281\n",
       "3 -0.345949 -0.022361 -0.028398  0.092098  0.162604  0.233577  0.227056\n",
       "4  0.290824 -0.356158  0.030515 -0.092028 -0.274871 -0.325332 -0.603242"
      ]
     },
     "execution_count": 31,
     "metadata": {},
     "output_type": "execute_result"
    }
   ],
   "source": [
    "df_pca = pd.DataFrame(PCA.fit_transform(df_PCA), columns=['PC1', 'PC2','PC3', 'PC4','PC5', 'PC6', 'PC7'],\\\n",
    "                      index=df_PCA.index)\n",
    "df_pca.head()"
   ]
  },
  {
   "cell_type": "code",
   "execution_count": 32,
   "metadata": {},
   "outputs": [
    {
     "data": {
      "image/png": "[encoded data removed]",
      "text/plain": [
       "<Figure size 648x504 with 3 Axes>"
      ]
     },
     "metadata": {},
     "output_type": "display_data"
    }
   ],
   "source": [
    "fig , ax1 = plt.subplots(figsize=(9,7))\n",
    "\n",
    "ax1.set_xlim(-1,1)\n",
    "ax1.set_ylim(-1,1)\n",
    "\n",
    "# Ploteamos los Componentes Principales 1 y 2\n",
    "#for i in df_pca.index:\n",
    "#  ax1.annotate(i, (df_pca.PC1.loc[i], -df_pca.PC2.loc[i]), ha='center')\n",
    "\n",
    "# Ploteamos las líneas de referencia\n",
    "ax1.hlines(0,-3.5,3.5, linestyles='dotted', colors='grey')\n",
    "ax1.vlines(0,-3.5,3.5, linestyles='dotted', colors='grey')\n",
    "\n",
    "ax1.set_xlabel('Primer Componente Principal')\n",
    "ax1.set_ylabel('Segundo Componente Principal')\n",
    "    \n",
    "# Creamos ejes secundarios\n",
    "ax2 = ax1.twinx().twiny() \n",
    "\n",
    "ax2.set_ylim(-1,1)\n",
    "ax2.set_xlim(-1,1)\n",
    "ax2.tick_params(axis='y', colors='orange')\n",
    "ax2.set_xlabel('Vectores de loadings de los Componentes Principales', color='orange')\n",
    "\n",
    "# Ploteamos a las variables originales en relación a los Componentes Principales 1 y 2\n",
    "for i in PCA_loadings[['PC1', 'PC2']].index:\n",
    "    ax2.annotate(i, (PCA_loadings.PC1.loc[i], -PCA_loadings.PC2.loc[i]), color='orange')\n",
    "\n",
    "# Plot vectors\n",
    "ax2.arrow(0,0,PCA_loadings.PC1[0], -PCA_loadings.PC2[0])\n",
    "ax2.arrow(0,0,PCA_loadings.PC1[1], -PCA_loadings.PC2[1])\n",
    "ax2.arrow(0,0,PCA_loadings.PC1[2], -PCA_loadings.PC2[2])\n",
    "ax2.arrow(0,0,PCA_loadings.PC1[3], -PCA_loadings.PC2[3])\n",
    "ax2.arrow(0,0,PCA_loadings.PC1[4], -PCA_loadings.PC2[4]);"
   ]
  },
  {
   "cell_type": "markdown",
   "metadata": {},
   "source": [
    "### K means"
   ]
  },
  {
   "cell_type": "code",
   "execution_count": 80,
   "metadata": {},
   "outputs": [],
   "source": [
    "df_2 = pd.get_dummies(df, columns = ['IDSexo', 'estado_civil',\n",
    "    'situacion_laboral','situacion_vivienda', 'pais_nacimiento',\n",
    "       'provincia_domicilio', 'sit_bcra'])\n",
    "\n",
    "\n",
    "# normalizamos los datos\n",
    "from sklearn.preprocessing import StandardScaler\n",
    "scaler = StandardScaler()\n",
    "\n",
    "X = scaler.fit_transform(df_2)"
   ]
  },
  {
   "cell_type": "code",
   "execution_count": 82,
   "metadata": {},
   "outputs": [
    {
     "data": {
      "text/plain": [
       "KMeans(algorithm='auto', copy_x=True, init='k-means++', max_iter=300,\n",
       "       n_clusters=3, n_init=10, n_jobs=None, precompute_distances='auto',\n",
       "       random_state=0, tol=0.0001, verbose=0)"
      ]
     },
     "execution_count": 82,
     "metadata": {},
     "output_type": "execute_result"
    }
   ],
   "source": [
    "k = 3\n",
    "\n",
    "#Como siempre, suele ser una buena práctica fijar la semilla\n",
    "from sklearn import cluster\n",
    "kmeans = cluster.KMeans(n_clusters=k, random_state=0) \n",
    "\n",
    "kmeans.fit(X)"
   ]
  },
  {
   "cell_type": "code",
   "execution_count": 83,
   "metadata": {},
   "outputs": [],
   "source": [
    "labels = kmeans.labels_\n",
    "centroids = kmeans.cluster_centers_"
   ]
  },
  {
   "cell_type": "code",
   "execution_count": 84,
   "metadata": {
    "scrolled": true
   },
   "outputs": [
    {
     "data": {
      "text/plain": [
       "array([1, 0, 0, ..., 2, 0, 2])"
      ]
     },
     "execution_count": 84,
     "metadata": {},
     "output_type": "execute_result"
    }
   ],
   "source": [
    "labels"
   ]
  },
  {
   "cell_type": "code",
   "execution_count": 85,
   "metadata": {
    "scrolled": true
   },
   "outputs": [
    {
     "data": {
      "text/plain": [
       "array([[ 2.20765600e-02, -1.08085792e-02,  5.34208469e-02,\n",
       "        -3.08004700e-02, -4.43255854e-02, -4.85752023e-02,\n",
       "        -3.97670681e-02, -3.42875468e-02,  1.58555085e-03,\n",
       "         1.30492831e-02,  1.27150801e-02,  2.67053281e-02,\n",
       "        -5.96886606e-02, -5.97265852e-02, -5.13172704e-02,\n",
       "        -2.80714943e-02, -1.52052044e-02, -6.68262494e-03,\n",
       "         1.67688145e-03,  1.17853440e-02, -7.92560255e-02,\n",
       "        -3.44287361e-02,  3.44287361e-02,  2.82297354e-02,\n",
       "         2.29499110e-03,  1.16503002e-02,  1.16347262e-02,\n",
       "        -1.06902478e-01, -3.91032086e-01,  3.91032086e-01,\n",
       "        -2.63895326e-01, -5.57039652e-02, -4.88318520e-01,\n",
       "        -1.26974315e-01,  6.18370228e-01, -3.03379595e-03,\n",
       "         4.43542830e-03, -3.27211174e-03,  2.33360431e-03,\n",
       "         3.02391869e-03,  9.45188578e-04,  2.31823717e-02,\n",
       "        -4.68959248e-03,  3.57716553e-02,  3.78252399e-02,\n",
       "        -8.40547661e-03, -6.89639007e-02,  1.28639049e-02,\n",
       "        -1.96045856e-02,  9.67175038e-03, -1.38109929e-02,\n",
       "        -1.88274422e-02, -1.95127433e-02, -5.58085729e-03,\n",
       "         3.08846865e-02, -4.55773228e-03, -6.32229844e-03,\n",
       "         1.76343196e-02, -3.45925800e-02,  1.26158708e-02,\n",
       "        -2.53952333e-02,  4.44209439e-04,  4.59821194e-02,\n",
       "         7.16624392e-03, -8.56042905e-03, -1.48932281e-02,\n",
       "         1.29809239e-02,  6.06961871e-03,  7.03734273e-03,\n",
       "         7.08199812e-04],\n",
       "       [ 2.70801298e-01, -2.43852149e-02, -1.19934907e-01,\n",
       "        -1.11790091e-01, -4.42400488e-02, -2.53903204e-02,\n",
       "        -3.36993086e-02, -8.86582887e-02, -2.04641065e-02,\n",
       "        -1.17284087e-01, -1.77959696e-01,  4.35658948e-02,\n",
       "        -9.92717769e-02, -1.02980535e-01, -1.66873252e-01,\n",
       "         4.94666463e-02,  5.35557188e-02,  1.45373691e-02,\n",
       "        -2.71866627e-03, -7.26145433e-02,  1.38086273e+00,\n",
       "         3.17063544e-01, -3.17063544e-01,  1.13841807e-01,\n",
       "         1.14969978e-01,  3.03044135e-02, -4.97116852e-01,\n",
       "         8.04880011e-01,  2.55659288e+00, -2.55659288e+00,\n",
       "        -1.83919265e-01, -3.21371744e-02, -1.93213582e-01,\n",
       "        -8.83047646e-02,  3.00406089e-01, -3.13694297e-02,\n",
       "         1.21271825e-02,  5.10846223e-02,  3.83236463e-02,\n",
       "        -4.40744248e-02,  6.11655178e-03, -1.12598602e-01,\n",
       "        -2.64918302e-02, -6.59197461e-02,  2.27303168e-02,\n",
       "         8.88174887e-03,  1.32116713e-01,  1.05206912e-03,\n",
       "        -3.94458578e-02, -1.05987506e-02, -2.37902869e-02,\n",
       "        -4.77533552e-02, -6.59262283e-02,  7.34217614e-03,\n",
       "         2.53523096e-02, -2.33995998e-03, -3.39406022e-02,\n",
       "         4.50876786e-02,  2.22202703e-02, -4.24615327e-02,\n",
       "         8.77102556e-02, -4.16460620e-02,  1.47099091e-02,\n",
       "         2.32961980e-02,  9.01207138e-02, -3.02214656e-03,\n",
       "        -4.39595597e-03, -5.16288910e-03,  3.45360124e-03,\n",
       "         1.48626765e-02],\n",
       "       [-1.90260342e-01,  3.78448776e-02, -6.41356477e-02,\n",
       "         1.29466371e-01,  1.26697093e-01,  1.27040778e-01,\n",
       "         1.10605022e-01,  1.25830691e-01,  6.73716828e-03,\n",
       "         2.93083357e-02,  6.11076437e-02, -8.49772842e-02,\n",
       "         1.90901734e-01,  1.92886531e-01,  2.05799081e-01,\n",
       "         4.06313618e-02,  8.32908944e-03,  8.26105784e-03,\n",
       "        -2.54793320e-03,  9.44327904e-03, -5.19726743e-01,\n",
       "        -8.12238766e-02,  8.12238766e-02, -1.24478612e-01,\n",
       "        -6.41563075e-02, -4.28469932e-02,  2.26782761e-01,\n",
       "        -1.60392868e-01, -3.88604634e-01,  3.88604634e-01,\n",
       "         7.13679854e-01,  1.47228943e-01,  1.24541262e+00,\n",
       "         3.43293503e-01, -1.60558687e+00,  2.31584347e-02,\n",
       "        -1.66139536e-02, -1.84286320e-02, -2.50689431e-02,\n",
       "         1.54281430e-02, -5.34595196e-03,  3.11920359e-03,\n",
       "         2.45533110e-02, -5.03025265e-02, -1.00438458e-01,\n",
       "         1.51974818e-02,  9.44064792e-02, -3.07442973e-02,\n",
       "         6.61976219e-02, -1.72932460e-02,  4.45909308e-02,\n",
       "         6.86191693e-02,  7.95174933e-02,  9.35177677e-03,\n",
       "        -8.54811571e-02,  1.18983708e-02,  3.21946338e-02,\n",
       "        -6.44549548e-02,  6.98710036e-02, -7.91974677e-03,\n",
       "         1.47987164e-02,  2.02444514e-02, -1.15492471e-01,\n",
       "        -2.87354306e-02, -2.59642397e-02,  3.65164881e-02,\n",
       "        -2.82343000e-02, -1.16134176e-02, -1.82901386e-02,\n",
       "        -9.26007557e-03]])"
      ]
     },
     "execution_count": 85,
     "metadata": {},
     "output_type": "execute_result"
    }
   ],
   "source": [
    "centroids"
   ]
  },
  {
   "cell_type": "code",
   "execution_count": 86,
   "metadata": {},
   "outputs": [
    {
     "data": {
      "text/plain": [
       "array([[ 8.53165153,  7.25126728,  9.19947838],\n",
       "       [12.65031348, 13.64736812, 12.83104085],\n",
       "       [ 5.2213553 ,  6.59952555,  6.21517792],\n",
       "       ...,\n",
       "       [ 7.26980765,  8.13055507,  6.89251972],\n",
       "       [ 6.05859505,  7.27277075,  7.01844715],\n",
       "       [13.88149881, 14.63936132, 13.26980296]])"
      ]
     },
     "execution_count": 86,
     "metadata": {},
     "output_type": "execute_result"
    }
   ],
   "source": [
    "#distancia de cada observación con los clusters\n",
    "dist = kmeans.fit_transform(X)\n",
    "dist"
   ]
  },
  {
   "cell_type": "code",
   "execution_count": 88,
   "metadata": {},
   "outputs": [
    {
     "data": {
      "text/plain": [
       "0.07245522392981085"
      ]
     },
     "execution_count": 88,
     "metadata": {},
     "output_type": "execute_result"
    }
   ],
   "source": [
    "import sklearn.metrics as sm\n",
    "sm.silhouette_score(X, labels, metric='euclidean')"
   ]
  },
  {
   "cell_type": "code",
   "execution_count": 89,
   "metadata": {},
   "outputs": [
    {
     "data": {
      "text/plain": [
       "4968.384918014745"
      ]
     },
     "execution_count": 89,
     "metadata": {},
     "output_type": "execute_result"
    }
   ],
   "source": [
    "sm.calinski_harabasz_score(X, labels)"
   ]
  },
  {
   "cell_type": "code",
   "execution_count": 90,
   "metadata": {},
   "outputs": [
    {
     "name": "stdout",
     "output_type": "stream",
     "text": [
      "K=  [(2, 0.10079811662668622, 5626.507313774624)]\n",
      "K=  [(3, 0.07245522392981085, 4968.384918014745)]\n",
      "K=  [(4, 0.06399395498149227, 4337.338924370446)]\n",
      "K=  [(5, 0.03768098424262831, 4005.302029000834)]\n",
      "K=  [(6, 0.04300989410072864, 3741.341066652617)]\n",
      "K=  [(7, 0.045934100992020784, 3697.154783402322)]\n",
      "K=  [(8, 0.05159199477950246, 3529.011929196184)]\n"
     ]
    }
   ],
   "source": [
    "evaluation = []\n",
    "for k in range(2,9):\n",
    "    \n",
    "    #Como siempre, suele ser una buena práctica fijar la semilla\n",
    "    kmeans = cluster.KMeans(n_clusters=k, random_state=0) \n",
    "    kmeans.fit(X)\n",
    "    labels = kmeans.labels_\n",
    "    centroids = kmeans.cluster_centers_\n",
    "    silhouette = sm.silhouette_score(X, labels, metric='euclidean')\n",
    "    calinsky = sm.calinski_harabasz_score(X, labels)      \n",
    "    evaluation = [(k, silhouette, calinsky)]\n",
    "    print(\"K= \", evaluation)"
   ]
  },
  {
   "cell_type": "code",
   "execution_count": 91,
   "metadata": {
    "scrolled": true
   },
   "outputs": [
    {
     "data": {
      "text/plain": [
       "Index(['vb_antiguedad_tc', 'vb_actividad_tc', 'vb_uso_tc_prom_3',\n",
       "       'uso_canales_digitales', 'SUM_CA_Pesos_SD_Primer_Dia_Mes',\n",
       "       'SUM_CA_Pesos_SD_Promedio_Mensual', 'SUM_CA_Pesos_SD_Ultimo_Dia_Mes',\n",
       "       'SUM_CA_Promo_Consumo', 'SUM_TC_Promo_Consumo', 'Tiene_Celular',\n",
       "       'Tiene_Email', 'tiene_PP', 'tiene_PH', 'tiene_ca_pesos',\n",
       "       'tiene_ca_dolar', 'tiene_plazo_fijo', 'monto_pf_pesos',\n",
       "       'monto_pf_dolar', 'ea_perfil_patrimonial', 'TC_limite_Compra', 'edad',\n",
       "       'IDSexo_F', 'IDSexo_M', 'estado_civil_C', 'estado_civil_D',\n",
       "       'estado_civil_O', 'estado_civil_S', 'estado_civil_V',\n",
       "       'situacion_laboral_Relacion de dependencia contratado',\n",
       "       'situacion_laboral_Relacion de dependencia fijo',\n",
       "       'situacion_vivienda_ALQUILADA', 'situacion_vivienda_DE LA EMPRESA',\n",
       "       'situacion_vivienda_FAMILIAR', 'situacion_vivienda_PRESTADA',\n",
       "       'situacion_vivienda_PROPIA', 'pais_nacimiento_ARGENTINA',\n",
       "       'pais_nacimiento_BOLIVIA', 'pais_nacimiento_CHILE',\n",
       "       'pais_nacimiento_PARAGUAY', 'pais_nacimiento_PERU',\n",
       "       'pais_nacimiento_URUGUAY', 'provincia_domicilio_BUENOS AIRES',\n",
       "       'provincia_domicilio_CATAMARCA',\n",
       "       'provincia_domicilio_CDAD AUTONOMA BS AS', 'provincia_domicilio_CHACO',\n",
       "       'provincia_domicilio_CHUBUT', 'provincia_domicilio_CORDOBA',\n",
       "       'provincia_domicilio_CORRIENTES', 'provincia_domicilio_ENTRE RIOS',\n",
       "       'provincia_domicilio_FORMOSA', 'provincia_domicilio_JUJUY',\n",
       "       'provincia_domicilio_LA PAMPA', 'provincia_domicilio_LA RIOJA',\n",
       "       'provincia_domicilio_MENDOZA', 'provincia_domicilio_MISIONES',\n",
       "       'provincia_domicilio_NEUQUEN', 'provincia_domicilio_RIO NEGRO',\n",
       "       'provincia_domicilio_SALTA', 'provincia_domicilio_SAN JUAN',\n",
       "       'provincia_domicilio_SAN LUIS', 'provincia_domicilio_SANTA CRUZ',\n",
       "       'provincia_domicilio_SANTA FE',\n",
       "       'provincia_domicilio_SANTIAGO DEL ESTERO',\n",
       "       'provincia_domicilio_TIERRA DEL FUEGO', 'provincia_domicilio_TUCUMAN',\n",
       "       'sit_bcra_1', 'sit_bcra_2', 'sit_bcra_3', 'sit_bcra_4', 'sit_bcra_5'],\n",
       "      dtype='object')"
      ]
     },
     "execution_count": 91,
     "metadata": {},
     "output_type": "execute_result"
    }
   ],
   "source": [
    "df.columns"
   ]
  },
  {
   "cell_type": "code",
   "execution_count": 137,
   "metadata": {},
   "outputs": [],
   "source": [
    "df_3 = df.copy()"
   ]
  },
  {
   "cell_type": "code",
   "execution_count": 138,
   "metadata": {},
   "outputs": [
    {
     "data": {
      "text/plain": [
       "Index(['IDSexo', 'ActividadAFIP', 'estado_civil', 'pais_nacimiento',\n",
       "       'nacionalidad', 'situacion_laboral', 'situacion_vivienda',\n",
       "       'pais_domicilio', 'ciudad_domicilio', 'provincia_domicilio', 'sit_bcra',\n",
       "       'vb_antiguedad_tc', 'vb_actividad_tc', 'vb_uso_tc_prom_3',\n",
       "       'uso_canales_digitales', 'SUM_CA_Pesos_SD_Primer_Dia_Mes',\n",
       "       'SUM_CA_Pesos_SD_Promedio_Mensual', 'SUM_CA_Pesos_SD_Ultimo_Dia_Mes',\n",
       "       'SUM_CA_Promo_Consumo', 'SUM_TC_Promo_Consumo', 'Tiene_Celular',\n",
       "       'Tiene_Email', 'vb_riesgo_score', 'tiene_PP', 'tiene_PH',\n",
       "       'tiene_ca_pesos', 'tiene_ca_dolar', 'tiene_plazo_fijo',\n",
       "       'monto_pf_pesos', 'monto_pf_dolar', 'ea_perfil_patrimonial',\n",
       "       'TC_limite_Compra', 'Segmento_renta', 'edad'],\n",
       "      dtype='object')"
      ]
     },
     "execution_count": 138,
     "metadata": {},
     "output_type": "execute_result"
    }
   ],
   "source": [
    "df_3.columns"
   ]
  },
  {
   "cell_type": "code",
   "execution_count": 139,
   "metadata": {},
   "outputs": [],
   "source": [
    "df_3 = df_3.drop(columns = ['IDSexo', 'ActividadAFIP', 'estado_civil', 'nacionalidad', 'situacion_laboral', 'situacion_vivienda',\n",
    "                    'pais_domicilio', 'ciudad_domicilio', 'provincia_domicilio', 'Tiene_Celular', 'Tiene_Email',\n",
    "                    'vb_riesgo_score', 'Segmento_renta', 'pais_nacimiento', 'uso_canales_digitales'])"
   ]
  },
  {
   "cell_type": "code",
   "execution_count": 140,
   "metadata": {},
   "outputs": [
    {
     "data": {
      "text/plain": [
       "Index(['sit_bcra', 'vb_antiguedad_tc', 'vb_actividad_tc', 'vb_uso_tc_prom_3',\n",
       "       'SUM_CA_Pesos_SD_Primer_Dia_Mes', 'SUM_CA_Pesos_SD_Promedio_Mensual',\n",
       "       'SUM_CA_Pesos_SD_Ultimo_Dia_Mes', 'SUM_CA_Promo_Consumo',\n",
       "       'SUM_TC_Promo_Consumo', 'tiene_PP', 'tiene_PH', 'tiene_ca_pesos',\n",
       "       'tiene_ca_dolar', 'tiene_plazo_fijo', 'monto_pf_pesos',\n",
       "       'monto_pf_dolar', 'ea_perfil_patrimonial', 'TC_limite_Compra', 'edad'],\n",
       "      dtype='object')"
      ]
     },
     "execution_count": 140,
     "metadata": {},
     "output_type": "execute_result"
    }
   ],
   "source": [
    "df_3.columns"
   ]
  },
  {
   "cell_type": "code",
   "execution_count": 141,
   "metadata": {},
   "outputs": [],
   "source": [
    "df_3 = pd.get_dummies(df_3, columns = ['sit_bcra'])"
   ]
  },
  {
   "cell_type": "code",
   "execution_count": 142,
   "metadata": {},
   "outputs": [
    {
     "data": {
      "text/html": [
       "<div>\n",
       "<style scoped>\n",
       "    .dataframe tbody tr th:only-of-type {\n",
       "        vertical-align: middle;\n",
       "    }\n",
       "\n",
       "    .dataframe tbody tr th {\n",
       "        vertical-align: top;\n",
       "    }\n",
       "\n",
       "    .dataframe thead th {\n",
       "        text-align: right;\n",
       "    }\n",
       "</style>\n",
       "<table border=\"1\" class=\"dataframe\">\n",
       "  <thead>\n",
       "    <tr style=\"text-align: right;\">\n",
       "      <th></th>\n",
       "      <th>vb_antiguedad_tc</th>\n",
       "      <th>vb_actividad_tc</th>\n",
       "      <th>vb_uso_tc_prom_3</th>\n",
       "      <th>SUM_CA_Pesos_SD_Primer_Dia_Mes</th>\n",
       "      <th>SUM_CA_Pesos_SD_Promedio_Mensual</th>\n",
       "      <th>SUM_CA_Pesos_SD_Ultimo_Dia_Mes</th>\n",
       "      <th>SUM_CA_Promo_Consumo</th>\n",
       "      <th>SUM_TC_Promo_Consumo</th>\n",
       "      <th>tiene_PP</th>\n",
       "      <th>tiene_PH</th>\n",
       "      <th>...</th>\n",
       "      <th>monto_pf_pesos</th>\n",
       "      <th>monto_pf_dolar</th>\n",
       "      <th>ea_perfil_patrimonial</th>\n",
       "      <th>TC_limite_Compra</th>\n",
       "      <th>edad</th>\n",
       "      <th>sit_bcra_1</th>\n",
       "      <th>sit_bcra_2</th>\n",
       "      <th>sit_bcra_3</th>\n",
       "      <th>sit_bcra_4</th>\n",
       "      <th>sit_bcra_5</th>\n",
       "    </tr>\n",
       "  </thead>\n",
       "  <tbody>\n",
       "    <tr>\n",
       "      <th>167087</th>\n",
       "      <td>114.0</td>\n",
       "      <td>3.0</td>\n",
       "      <td>0.0</td>\n",
       "      <td>0.00</td>\n",
       "      <td>0.00</td>\n",
       "      <td>0.00</td>\n",
       "      <td>0.00</td>\n",
       "      <td>0.0</td>\n",
       "      <td>0</td>\n",
       "      <td>0</td>\n",
       "      <td>...</td>\n",
       "      <td>0.0</td>\n",
       "      <td>0.0</td>\n",
       "      <td>3000.0</td>\n",
       "      <td>16000.0</td>\n",
       "      <td>75</td>\n",
       "      <td>1</td>\n",
       "      <td>0</td>\n",
       "      <td>0</td>\n",
       "      <td>0</td>\n",
       "      <td>0</td>\n",
       "    </tr>\n",
       "    <tr>\n",
       "      <th>116423</th>\n",
       "      <td>16.0</td>\n",
       "      <td>2.0</td>\n",
       "      <td>0.0</td>\n",
       "      <td>25298.58</td>\n",
       "      <td>16905.64</td>\n",
       "      <td>27634.21</td>\n",
       "      <td>3769.03</td>\n",
       "      <td>0.0</td>\n",
       "      <td>0</td>\n",
       "      <td>0</td>\n",
       "      <td>...</td>\n",
       "      <td>15000.0</td>\n",
       "      <td>0.0</td>\n",
       "      <td>10080.0</td>\n",
       "      <td>16000.0</td>\n",
       "      <td>34</td>\n",
       "      <td>1</td>\n",
       "      <td>0</td>\n",
       "      <td>0</td>\n",
       "      <td>0</td>\n",
       "      <td>0</td>\n",
       "    </tr>\n",
       "    <tr>\n",
       "      <th>88098</th>\n",
       "      <td>329.0</td>\n",
       "      <td>1.0</td>\n",
       "      <td>41951.0</td>\n",
       "      <td>0.00</td>\n",
       "      <td>0.00</td>\n",
       "      <td>0.00</td>\n",
       "      <td>0.00</td>\n",
       "      <td>0.0</td>\n",
       "      <td>0</td>\n",
       "      <td>0</td>\n",
       "      <td>...</td>\n",
       "      <td>0.0</td>\n",
       "      <td>0.0</td>\n",
       "      <td>12269.0</td>\n",
       "      <td>80000.0</td>\n",
       "      <td>60</td>\n",
       "      <td>1</td>\n",
       "      <td>0</td>\n",
       "      <td>0</td>\n",
       "      <td>0</td>\n",
       "      <td>0</td>\n",
       "    </tr>\n",
       "    <tr>\n",
       "      <th>226183</th>\n",
       "      <td>141.0</td>\n",
       "      <td>2.0</td>\n",
       "      <td>0.0</td>\n",
       "      <td>0.00</td>\n",
       "      <td>0.00</td>\n",
       "      <td>0.00</td>\n",
       "      <td>0.00</td>\n",
       "      <td>0.0</td>\n",
       "      <td>0</td>\n",
       "      <td>0</td>\n",
       "      <td>...</td>\n",
       "      <td>0.0</td>\n",
       "      <td>0.0</td>\n",
       "      <td>30240.0</td>\n",
       "      <td>32000.0</td>\n",
       "      <td>44</td>\n",
       "      <td>1</td>\n",
       "      <td>0</td>\n",
       "      <td>0</td>\n",
       "      <td>0</td>\n",
       "      <td>0</td>\n",
       "    </tr>\n",
       "    <tr>\n",
       "      <th>381307</th>\n",
       "      <td>129.0</td>\n",
       "      <td>2.0</td>\n",
       "      <td>3177.0</td>\n",
       "      <td>295.51</td>\n",
       "      <td>327.62</td>\n",
       "      <td>362.57</td>\n",
       "      <td>0.00</td>\n",
       "      <td>0.0</td>\n",
       "      <td>0</td>\n",
       "      <td>0</td>\n",
       "      <td>...</td>\n",
       "      <td>0.0</td>\n",
       "      <td>0.0</td>\n",
       "      <td>54096.0</td>\n",
       "      <td>96000.0</td>\n",
       "      <td>33</td>\n",
       "      <td>1</td>\n",
       "      <td>0</td>\n",
       "      <td>0</td>\n",
       "      <td>0</td>\n",
       "      <td>0</td>\n",
       "    </tr>\n",
       "  </tbody>\n",
       "</table>\n",
       "<p>5 rows × 23 columns</p>\n",
       "</div>"
      ],
      "text/plain": [
       "        vb_antiguedad_tc  vb_actividad_tc  vb_uso_tc_prom_3  \\\n",
       "167087             114.0              3.0               0.0   \n",
       "116423              16.0              2.0               0.0   \n",
       "88098              329.0              1.0           41951.0   \n",
       "226183             141.0              2.0               0.0   \n",
       "381307             129.0              2.0            3177.0   \n",
       "\n",
       "        SUM_CA_Pesos_SD_Primer_Dia_Mes  SUM_CA_Pesos_SD_Promedio_Mensual  \\\n",
       "167087                            0.00                              0.00   \n",
       "116423                        25298.58                          16905.64   \n",
       "88098                             0.00                              0.00   \n",
       "226183                            0.00                              0.00   \n",
       "381307                          295.51                            327.62   \n",
       "\n",
       "        SUM_CA_Pesos_SD_Ultimo_Dia_Mes  SUM_CA_Promo_Consumo  \\\n",
       "167087                            0.00                  0.00   \n",
       "116423                        27634.21               3769.03   \n",
       "88098                             0.00                  0.00   \n",
       "226183                            0.00                  0.00   \n",
       "381307                          362.57                  0.00   \n",
       "\n",
       "        SUM_TC_Promo_Consumo  tiene_PP  tiene_PH  ...  monto_pf_pesos  \\\n",
       "167087                   0.0         0         0  ...             0.0   \n",
       "116423                   0.0         0         0  ...         15000.0   \n",
       "88098                    0.0         0         0  ...             0.0   \n",
       "226183                   0.0         0         0  ...             0.0   \n",
       "381307                   0.0         0         0  ...             0.0   \n",
       "\n",
       "        monto_pf_dolar  ea_perfil_patrimonial  TC_limite_Compra  edad  \\\n",
       "167087             0.0                 3000.0           16000.0    75   \n",
       "116423             0.0                10080.0           16000.0    34   \n",
       "88098              0.0                12269.0           80000.0    60   \n",
       "226183             0.0                30240.0           32000.0    44   \n",
       "381307             0.0                54096.0           96000.0    33   \n",
       "\n",
       "        sit_bcra_1  sit_bcra_2  sit_bcra_3  sit_bcra_4  sit_bcra_5  \n",
       "167087           1           0           0           0           0  \n",
       "116423           1           0           0           0           0  \n",
       "88098            1           0           0           0           0  \n",
       "226183           1           0           0           0           0  \n",
       "381307           1           0           0           0           0  \n",
       "\n",
       "[5 rows x 23 columns]"
      ]
     },
     "execution_count": 142,
     "metadata": {},
     "output_type": "execute_result"
    }
   ],
   "source": [
    "df_3.head()"
   ]
  },
  {
   "cell_type": "code",
   "execution_count": 143,
   "metadata": {},
   "outputs": [],
   "source": [
    "# normalizamos los datos\n",
    "from sklearn.preprocessing import StandardScaler\n",
    "scaler = StandardScaler()\n",
    "\n",
    "X = scaler.fit_transform(df_3)"
   ]
  },
  {
   "cell_type": "code",
   "execution_count": 144,
   "metadata": {},
   "outputs": [
    {
     "data": {
      "text/plain": [
       "KMeans(algorithm='auto', copy_x=True, init='k-means++', max_iter=300,\n",
       "       n_clusters=3, n_init=10, n_jobs=None, precompute_distances='auto',\n",
       "       random_state=0, tol=0.0001, verbose=0)"
      ]
     },
     "execution_count": 144,
     "metadata": {},
     "output_type": "execute_result"
    }
   ],
   "source": [
    "k = 3\n",
    "\n",
    "#Como siempre, suele ser una buena práctica fijar la semilla\n",
    "from sklearn import cluster\n",
    "kmeans = cluster.KMeans(n_clusters=k, random_state=0) \n",
    "\n",
    "kmeans.fit(X)"
   ]
  },
  {
   "cell_type": "code",
   "execution_count": 145,
   "metadata": {},
   "outputs": [],
   "source": [
    "labels = kmeans.labels_\n",
    "centroids = kmeans.cluster_centers_"
   ]
  },
  {
   "cell_type": "code",
   "execution_count": 146,
   "metadata": {
    "scrolled": true
   },
   "outputs": [
    {
     "data": {
      "text/plain": [
       "array([1, 0, 1, ..., 1, 1, 2])"
      ]
     },
     "execution_count": 146,
     "metadata": {},
     "output_type": "execute_result"
    }
   ],
   "source": [
    "labels"
   ]
  },
  {
   "cell_type": "code",
   "execution_count": 147,
   "metadata": {
    "scrolled": true
   },
   "outputs": [
    {
     "data": {
      "text/plain": [
       "array([[ 2.81771576e-02,  4.17513278e-02, -1.64517534e-01,\n",
       "         1.63088078e+00,  1.80067801e+00,  1.41942683e+00,\n",
       "         1.24187157e+00,  7.99570772e-02, -1.17897806e-01,\n",
       "         2.97576134e-01,  6.55671360e-01,  6.52891938e-01,\n",
       "         4.25072275e+00,  1.57010054e+00,  5.36764013e-01,\n",
       "        -1.89124631e-03,  4.39483508e-01,  3.83491770e-04,\n",
       "         1.68533258e-01, -1.14361329e-01, -7.29151250e-02,\n",
       "        -7.46803475e-02, -5.75023217e-02],\n",
       "       [ 5.87455229e-02, -4.57553531e-02, -6.28949375e-02,\n",
       "        -1.69993381e-01, -1.75039869e-01, -1.50096529e-01,\n",
       "        -1.99682345e-01, -3.57695638e-02, -3.87301378e-01,\n",
       "        -1.20926383e-01, -1.02027259e+00, -1.10957685e+00,\n",
       "        -1.91457990e-01, -7.61367751e-02, -2.65050042e-02,\n",
       "         3.49339419e-03, -2.26661715e-01,  1.34287199e-01,\n",
       "        -1.62765080e-02,  6.76858230e-04, -5.69575473e-03,\n",
       "         1.32428198e-02,  2.74316314e-02],\n",
       "       [-4.60616209e-02,  3.08658375e-02,  5.98828692e-02,\n",
       "        -1.40611853e-03, -1.09955787e-02,  3.76282088e-04,\n",
       "         5.13512924e-02,  2.04076555e-02,  2.98339539e-01,\n",
       "         6.68476878e-02,  7.09915763e-01,  7.76787434e-01,\n",
       "        -1.91457990e-01, -6.66759824e-02, -2.24386656e-02,\n",
       "        -2.45856439e-03,  1.34602029e-01, -1.00256637e-01,\n",
       "        -1.10841102e-03,  8.49028237e-03,  9.98645425e-03,\n",
       "        -4.00967369e-03, -1.59508157e-02]])"
      ]
     },
     "execution_count": 147,
     "metadata": {},
     "output_type": "execute_result"
    }
   ],
   "source": [
    "centroids"
   ]
  },
  {
   "cell_type": "code",
   "execution_count": 148,
   "metadata": {},
   "outputs": [
    {
     "data": {
      "text/plain": [
       "array([[ 6.93999666,  2.1382468 ,  3.84031832],\n",
       "       [ 3.95328909,  7.1681793 ,  6.53649161],\n",
       "       [ 6.91839561,  3.61092246,  3.81005683],\n",
       "       ...,\n",
       "       [ 6.89388523,  2.20803607,  3.82247531],\n",
       "       [ 6.54385157,  0.71085907,  3.07002601],\n",
       "       [10.89564281, 10.99540648, 10.3027083 ]])"
      ]
     },
     "execution_count": 148,
     "metadata": {},
     "output_type": "execute_result"
    }
   ],
   "source": [
    "#distancia de cada observación con los clusters\n",
    "dist = kmeans.fit_transform(X)\n",
    "dist"
   ]
  },
  {
   "cell_type": "code",
   "execution_count": 149,
   "metadata": {},
   "outputs": [
    {
     "data": {
      "text/plain": [
       "0.18827250493196374"
      ]
     },
     "execution_count": 149,
     "metadata": {},
     "output_type": "execute_result"
    }
   ],
   "source": [
    "import sklearn.metrics as sm\n",
    "sm.silhouette_score(X, labels, metric='euclidean')"
   ]
  },
  {
   "cell_type": "code",
   "execution_count": 150,
   "metadata": {},
   "outputs": [
    {
     "data": {
      "text/plain": [
       "11936.24117142737"
      ]
     },
     "execution_count": 150,
     "metadata": {},
     "output_type": "execute_result"
    }
   ],
   "source": [
    "sm.calinski_harabasz_score(X, labels)"
   ]
  },
  {
   "cell_type": "code",
   "execution_count": 151,
   "metadata": {},
   "outputs": [
    {
     "name": "stdout",
     "output_type": "stream",
     "text": [
      "K=  [(2, 0.16541600671544915, 13216.866917356188)]\n"
     ]
    },
    {
     "name": "stderr",
     "output_type": "stream",
     "text": [
      "\n",
      "KeyboardInterrupt\n",
      "\n"
     ]
    }
   ],
   "source": [
    "evaluation = []\n",
    "for k in range(2,9):\n",
    "    \n",
    "    #Como siempre, suele ser una buena práctica fijar la semilla\n",
    "    kmeans = cluster.KMeans(n_clusters=k, random_state=0) \n",
    "    kmeans.fit(X)\n",
    "    labels = kmeans.labels_\n",
    "    centroids = kmeans.cluster_centers_\n",
    "    silhouette = sm.silhouette_score(X, labels, metric='euclidean')\n",
    "    calinsky = sm.calinski_harabasz_score(X, labels)      \n",
    "    evaluation = [(k, silhouette, calinsky)]\n",
    "    print(\"K= \", evaluation)"
   ]
  },
  {
   "cell_type": "code",
   "execution_count": null,
   "metadata": {},
   "outputs": [],
   "source": []
  }
 ],
 "metadata": {
  "accelerator": "GPU",
  "colab": {
   "collapsed_sections": [],
   "name": "first_analysis_v4.ipynb",
   "provenance": [],
   "toc_visible": true
  },
  "kernelspec": {
   "display_name": "Python 3",
   "language": "python",
   "name": "python3"
  },
  "language_info": {
   "codemirror_mode": {
    "name": "ipython",
    "version": 3
   },
   "file_extension": ".py",
   "mimetype": "text/x-python",
   "name": "python",
   "nbconvert_exporter": "python",
   "pygments_lexer": "ipython3",
   "version": "3.7.3"
  }
 },
 "nbformat": 4,
 "nbformat_minor": 1
}
